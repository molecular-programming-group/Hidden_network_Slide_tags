{
 "cells": [
  {
   "cell_type": "markdown",
   "id": "1616f1a5",
   "metadata": {},
   "source": [
    "# 0. create project structure and import utility functions\n",
    "After doing this, put the required files in the \"Input_files\" folder. Including approximate names, these should be:\n",
    "- Slide-tags spatial data   :   \"df_whitelist_{Sample/Project/Run}.csv\"\n",
    "- 10x barcode pairs         :   \"3M-february-2018.txt\"                      or equivalent\n",
    "- Known cell barcodes       :   \"barcodes_{Sample}.csv\"                     Single-cell derived barcodes\n",
    "- Slide-tags results        :   \"{Sample}_spatial.csv\"                      Slide-tags results, used to analyse check results but not strictly required until then\n",
    "\n",
    "It is also possible in each step to re-load config if changes are done in the middle.\n",
    "\n",
    "For the Tonsil analyses, leave the config as is or to perform the unipartite mouse embryonic analysis, switch to the config to \"config_standard_processes_mouse_embryo_uni.py\", otherwise the configs has to be manually changed or a new config created."
   ]
  },
  {
   "cell_type": "code",
   "execution_count": 1,
   "id": "aa8433bd",
   "metadata": {},
   "outputs": [],
   "source": [
    "from Utils import *\n",
    "create_structure()\n",
    "# default options: config_standard_processes.py or config_standard_processes_mouse_embryo_uni.py\n",
    "config = ConfigLoader('config_standard_processes.py') \n"
   ]
  },
  {
   "cell_type": "markdown",
   "id": "aea92295-b137-4abe-a039-627039cc8198",
   "metadata": {},
   "source": [
    "# 1. Process raw edge file\n",
    "\n",
    "The edge file (df_whitelist_{Project}.txt) generated from Russell et als' pipeline will go through slight modification for easier handling in the downstream.\n",
    "\n",
    "- The first cell loads packages and creates project structure if not already present, after running this the required files should be added to the \"Input_files\" folder. \n",
    "\n",
    "- The second step is mandatory, and entails switching the cell barcodes with their counterpart in the 10X provided barcode document denoted \"3M-february-2018.txt\".\n",
    "\n",
    "- The third step is optional, and entails filtering the edge list, keeping only cells with a known position, as determined by Russell et al. This can also be used to remove any other barcodes you do not want to analyze. Both of these files are downloaded from the NCBI single-cell database for each specific experiment.\n",
    "\n",
    "NOTE: __This step can be skipped, since the initally processed edgelists are provided as a part of the github__"
   ]
  },
  {
   "cell_type": "code",
   "execution_count": 2,
   "id": "ab4eaa8d-547a-418c-b0b9-330545e46639",
   "metadata": {},
   "outputs": [
    {
     "name": "stdout",
     "output_type": "stream",
     "text": [
      "Slidetags input not found, checking for intermediate edgelists\n",
      "huh\n",
      "Found edgelist with synthetic bead barcodes\n"
     ]
    }
   ],
   "source": [
    "from initial_processing_functions import perform_preprocessing\n",
    "perform_preprocessing(config)"
   ]
  },
  {
   "cell_type": "markdown",
   "id": "53b9ee6f",
   "metadata": {},
   "source": [
    "# 2. Filter edgelist\n",
    "The main purpose is to remove certain beads with undesirable properties. \n",
    "By default, the options are that of the tonsil analysis in the manuscript:\n",
    "- Lower limit of 2 UMI's per bead\n",
    "- Upper limit of 1500 UMIs per bead\n",
    "- Removal of any bead with an \"N\" in the bead sequence \n",
    "\n",
    "There are also other options for filtering that are not active by default:\n",
    "- Filtering beads based on degree\n",
    "- Imposing a lower limit of number of UMIs per edge"
   ]
  },
  {
   "cell_type": "code",
   "execution_count": 3,
   "id": "5d307b9a",
   "metadata": {},
   "outputs": [
    {
     "ename": "FileNotFoundError",
     "evalue": "[Errno 2] No such file or directory: 'Intermediary_files/tonsil/all_cells.csv'",
     "output_type": "error",
     "traceback": [
      "\u001b[1;31m---------------------------------------------------------------------------\u001b[0m",
      "\u001b[1;31mFileNotFoundError\u001b[0m                         Traceback (most recent call last)",
      "Cell \u001b[1;32mIn[3], line 3\u001b[0m\n\u001b[0;32m      1\u001b[0m \u001b[38;5;28;01mfrom\u001b[39;00m \u001b[38;5;21;01mfiltering_functions\u001b[39;00m \u001b[38;5;28;01mimport\u001b[39;00m perform_filtering\n\u001b[1;32m----> 3\u001b[0m perform_filtering(config)\n",
      "File \u001b[1;32mc:\\Users\\simon.kolmodin\\Desktop\\Slide_Tag\\github_publication_test\\filtering_functions.py:174\u001b[0m, in \u001b[0;36mperform_filtering\u001b[1;34m(config)\u001b[0m\n\u001b[0;32m    170\u001b[0m config \u001b[38;5;241m=\u001b[39m generate_directory_names(config)\n\u001b[0;32m    172\u001b[0m ensure_directory(\u001b[38;5;124mf\u001b[39m\u001b[38;5;124m\"\u001b[39m\u001b[38;5;132;01m{\u001b[39;00mconfig\u001b[38;5;241m.\u001b[39msample_path\u001b[38;5;132;01m}\u001b[39;00m\u001b[38;5;124m/\u001b[39m\u001b[38;5;132;01m{\u001b[39;00mconfig\u001b[38;5;241m.\u001b[39mfiltering_directory\u001b[38;5;132;01m}\u001b[39;00m\u001b[38;5;124m\"\u001b[39m)\n\u001b[1;32m--> 174\u001b[0m edgelist \u001b[38;5;241m=\u001b[39m umi_sum_filtering(config)\n\u001b[0;32m    176\u001b[0m \u001b[38;5;28mprint\u001b[39m(edgelist)\n\u001b[0;32m    177\u001b[0m edgelist \u001b[38;5;241m=\u001b[39m n_connections_filtering(config)\n",
      "File \u001b[1;32mc:\\Users\\simon.kolmodin\\Desktop\\Slide_Tag\\github_publication_test\\filtering_functions.py:14\u001b[0m, in \u001b[0;36mumi_sum_filtering\u001b[1;34m(config)\u001b[0m\n\u001b[0;32m     12\u001b[0m     edge_list \u001b[38;5;241m=\u001b[39m pd\u001b[38;5;241m.\u001b[39mread_csv(\u001b[38;5;124mf\u001b[39m\u001b[38;5;124m\"\u001b[39m\u001b[38;5;124mInput_files/\u001b[39m\u001b[38;5;132;01m{\u001b[39;00mconfig\u001b[38;5;241m.\u001b[39mfiltering_args\u001b[38;5;241m.\u001b[39mprocessed_edge_files\u001b[38;5;132;01m}\u001b[39;00m\u001b[38;5;124m\"\u001b[39m, index_col \u001b[38;5;241m=\u001b[39m \u001b[38;5;124m\"\u001b[39m\u001b[38;5;124mUnnamed: 0\u001b[39m\u001b[38;5;124m\"\u001b[39m)\n\u001b[0;32m     13\u001b[0m \u001b[38;5;28;01melse\u001b[39;00m:\n\u001b[1;32m---> 14\u001b[0m     edge_list \u001b[38;5;241m=\u001b[39m pd\u001b[38;5;241m.\u001b[39mread_csv(\u001b[38;5;124mf\u001b[39m\u001b[38;5;124m\"\u001b[39m\u001b[38;5;132;01m{\u001b[39;00mconfig\u001b[38;5;241m.\u001b[39msample_path\u001b[38;5;132;01m}\u001b[39;00m\u001b[38;5;124m/\u001b[39m\u001b[38;5;132;01m{\u001b[39;00mconfig\u001b[38;5;241m.\u001b[39mpreprocessing_args\u001b[38;5;241m.\u001b[39mfilepaths\u001b[38;5;241m.\u001b[39moutput_file\u001b[38;5;132;01m}\u001b[39;00m\u001b[38;5;124m\"\u001b[39m)\n\u001b[0;32m     16\u001b[0m \u001b[38;5;66;03m#This gives each cell and bead a number, this is used for later edgelists instead of whole barcodes\u001b[39;00m\n\u001b[0;32m     17\u001b[0m \u001b[38;5;28;01mfrom\u001b[39;00m \u001b[38;5;21;01mUtils\u001b[39;00m \u001b[38;5;28;01mimport\u001b[39;00m generate_barcode_idx_mapping\n",
      "File \u001b[1;32mc:\\Users\\simon.kolmodin\\Anaconda3\\envs\\Publication_test\\Lib\\site-packages\\pandas\\io\\parsers\\readers.py:1026\u001b[0m, in \u001b[0;36mread_csv\u001b[1;34m(filepath_or_buffer, sep, delimiter, header, names, index_col, usecols, dtype, engine, converters, true_values, false_values, skipinitialspace, skiprows, skipfooter, nrows, na_values, keep_default_na, na_filter, verbose, skip_blank_lines, parse_dates, infer_datetime_format, keep_date_col, date_parser, date_format, dayfirst, cache_dates, iterator, chunksize, compression, thousands, decimal, lineterminator, quotechar, quoting, doublequote, escapechar, comment, encoding, encoding_errors, dialect, on_bad_lines, delim_whitespace, low_memory, memory_map, float_precision, storage_options, dtype_backend)\u001b[0m\n\u001b[0;32m   1013\u001b[0m kwds_defaults \u001b[38;5;241m=\u001b[39m _refine_defaults_read(\n\u001b[0;32m   1014\u001b[0m     dialect,\n\u001b[0;32m   1015\u001b[0m     delimiter,\n\u001b[1;32m   (...)\u001b[0m\n\u001b[0;32m   1022\u001b[0m     dtype_backend\u001b[38;5;241m=\u001b[39mdtype_backend,\n\u001b[0;32m   1023\u001b[0m )\n\u001b[0;32m   1024\u001b[0m kwds\u001b[38;5;241m.\u001b[39mupdate(kwds_defaults)\n\u001b[1;32m-> 1026\u001b[0m \u001b[38;5;28;01mreturn\u001b[39;00m _read(filepath_or_buffer, kwds)\n",
      "File \u001b[1;32mc:\\Users\\simon.kolmodin\\Anaconda3\\envs\\Publication_test\\Lib\\site-packages\\pandas\\io\\parsers\\readers.py:620\u001b[0m, in \u001b[0;36m_read\u001b[1;34m(filepath_or_buffer, kwds)\u001b[0m\n\u001b[0;32m    617\u001b[0m _validate_names(kwds\u001b[38;5;241m.\u001b[39mget(\u001b[38;5;124m\"\u001b[39m\u001b[38;5;124mnames\u001b[39m\u001b[38;5;124m\"\u001b[39m, \u001b[38;5;28;01mNone\u001b[39;00m))\n\u001b[0;32m    619\u001b[0m \u001b[38;5;66;03m# Create the parser.\u001b[39;00m\n\u001b[1;32m--> 620\u001b[0m parser \u001b[38;5;241m=\u001b[39m TextFileReader(filepath_or_buffer, \u001b[38;5;241m*\u001b[39m\u001b[38;5;241m*\u001b[39mkwds)\n\u001b[0;32m    622\u001b[0m \u001b[38;5;28;01mif\u001b[39;00m chunksize \u001b[38;5;129;01mor\u001b[39;00m iterator:\n\u001b[0;32m    623\u001b[0m     \u001b[38;5;28;01mreturn\u001b[39;00m parser\n",
      "File \u001b[1;32mc:\\Users\\simon.kolmodin\\Anaconda3\\envs\\Publication_test\\Lib\\site-packages\\pandas\\io\\parsers\\readers.py:1620\u001b[0m, in \u001b[0;36mTextFileReader.__init__\u001b[1;34m(self, f, engine, **kwds)\u001b[0m\n\u001b[0;32m   1617\u001b[0m     \u001b[38;5;28mself\u001b[39m\u001b[38;5;241m.\u001b[39moptions[\u001b[38;5;124m\"\u001b[39m\u001b[38;5;124mhas_index_names\u001b[39m\u001b[38;5;124m\"\u001b[39m] \u001b[38;5;241m=\u001b[39m kwds[\u001b[38;5;124m\"\u001b[39m\u001b[38;5;124mhas_index_names\u001b[39m\u001b[38;5;124m\"\u001b[39m]\n\u001b[0;32m   1619\u001b[0m \u001b[38;5;28mself\u001b[39m\u001b[38;5;241m.\u001b[39mhandles: IOHandles \u001b[38;5;241m|\u001b[39m \u001b[38;5;28;01mNone\u001b[39;00m \u001b[38;5;241m=\u001b[39m \u001b[38;5;28;01mNone\u001b[39;00m\n\u001b[1;32m-> 1620\u001b[0m \u001b[38;5;28mself\u001b[39m\u001b[38;5;241m.\u001b[39m_engine \u001b[38;5;241m=\u001b[39m \u001b[38;5;28mself\u001b[39m\u001b[38;5;241m.\u001b[39m_make_engine(f, \u001b[38;5;28mself\u001b[39m\u001b[38;5;241m.\u001b[39mengine)\n",
      "File \u001b[1;32mc:\\Users\\simon.kolmodin\\Anaconda3\\envs\\Publication_test\\Lib\\site-packages\\pandas\\io\\parsers\\readers.py:1880\u001b[0m, in \u001b[0;36mTextFileReader._make_engine\u001b[1;34m(self, f, engine)\u001b[0m\n\u001b[0;32m   1878\u001b[0m     \u001b[38;5;28;01mif\u001b[39;00m \u001b[38;5;124m\"\u001b[39m\u001b[38;5;124mb\u001b[39m\u001b[38;5;124m\"\u001b[39m \u001b[38;5;129;01mnot\u001b[39;00m \u001b[38;5;129;01min\u001b[39;00m mode:\n\u001b[0;32m   1879\u001b[0m         mode \u001b[38;5;241m+\u001b[39m\u001b[38;5;241m=\u001b[39m \u001b[38;5;124m\"\u001b[39m\u001b[38;5;124mb\u001b[39m\u001b[38;5;124m\"\u001b[39m\n\u001b[1;32m-> 1880\u001b[0m \u001b[38;5;28mself\u001b[39m\u001b[38;5;241m.\u001b[39mhandles \u001b[38;5;241m=\u001b[39m get_handle(\n\u001b[0;32m   1881\u001b[0m     f,\n\u001b[0;32m   1882\u001b[0m     mode,\n\u001b[0;32m   1883\u001b[0m     encoding\u001b[38;5;241m=\u001b[39m\u001b[38;5;28mself\u001b[39m\u001b[38;5;241m.\u001b[39moptions\u001b[38;5;241m.\u001b[39mget(\u001b[38;5;124m\"\u001b[39m\u001b[38;5;124mencoding\u001b[39m\u001b[38;5;124m\"\u001b[39m, \u001b[38;5;28;01mNone\u001b[39;00m),\n\u001b[0;32m   1884\u001b[0m     compression\u001b[38;5;241m=\u001b[39m\u001b[38;5;28mself\u001b[39m\u001b[38;5;241m.\u001b[39moptions\u001b[38;5;241m.\u001b[39mget(\u001b[38;5;124m\"\u001b[39m\u001b[38;5;124mcompression\u001b[39m\u001b[38;5;124m\"\u001b[39m, \u001b[38;5;28;01mNone\u001b[39;00m),\n\u001b[0;32m   1885\u001b[0m     memory_map\u001b[38;5;241m=\u001b[39m\u001b[38;5;28mself\u001b[39m\u001b[38;5;241m.\u001b[39moptions\u001b[38;5;241m.\u001b[39mget(\u001b[38;5;124m\"\u001b[39m\u001b[38;5;124mmemory_map\u001b[39m\u001b[38;5;124m\"\u001b[39m, \u001b[38;5;28;01mFalse\u001b[39;00m),\n\u001b[0;32m   1886\u001b[0m     is_text\u001b[38;5;241m=\u001b[39mis_text,\n\u001b[0;32m   1887\u001b[0m     errors\u001b[38;5;241m=\u001b[39m\u001b[38;5;28mself\u001b[39m\u001b[38;5;241m.\u001b[39moptions\u001b[38;5;241m.\u001b[39mget(\u001b[38;5;124m\"\u001b[39m\u001b[38;5;124mencoding_errors\u001b[39m\u001b[38;5;124m\"\u001b[39m, \u001b[38;5;124m\"\u001b[39m\u001b[38;5;124mstrict\u001b[39m\u001b[38;5;124m\"\u001b[39m),\n\u001b[0;32m   1888\u001b[0m     storage_options\u001b[38;5;241m=\u001b[39m\u001b[38;5;28mself\u001b[39m\u001b[38;5;241m.\u001b[39moptions\u001b[38;5;241m.\u001b[39mget(\u001b[38;5;124m\"\u001b[39m\u001b[38;5;124mstorage_options\u001b[39m\u001b[38;5;124m\"\u001b[39m, \u001b[38;5;28;01mNone\u001b[39;00m),\n\u001b[0;32m   1889\u001b[0m )\n\u001b[0;32m   1890\u001b[0m \u001b[38;5;28;01massert\u001b[39;00m \u001b[38;5;28mself\u001b[39m\u001b[38;5;241m.\u001b[39mhandles \u001b[38;5;129;01mis\u001b[39;00m \u001b[38;5;129;01mnot\u001b[39;00m \u001b[38;5;28;01mNone\u001b[39;00m\n\u001b[0;32m   1891\u001b[0m f \u001b[38;5;241m=\u001b[39m \u001b[38;5;28mself\u001b[39m\u001b[38;5;241m.\u001b[39mhandles\u001b[38;5;241m.\u001b[39mhandle\n",
      "File \u001b[1;32mc:\\Users\\simon.kolmodin\\Anaconda3\\envs\\Publication_test\\Lib\\site-packages\\pandas\\io\\common.py:873\u001b[0m, in \u001b[0;36mget_handle\u001b[1;34m(path_or_buf, mode, encoding, compression, memory_map, is_text, errors, storage_options)\u001b[0m\n\u001b[0;32m    868\u001b[0m \u001b[38;5;28;01melif\u001b[39;00m \u001b[38;5;28misinstance\u001b[39m(handle, \u001b[38;5;28mstr\u001b[39m):\n\u001b[0;32m    869\u001b[0m     \u001b[38;5;66;03m# Check whether the filename is to be opened in binary mode.\u001b[39;00m\n\u001b[0;32m    870\u001b[0m     \u001b[38;5;66;03m# Binary mode does not support 'encoding' and 'newline'.\u001b[39;00m\n\u001b[0;32m    871\u001b[0m     \u001b[38;5;28;01mif\u001b[39;00m ioargs\u001b[38;5;241m.\u001b[39mencoding \u001b[38;5;129;01mand\u001b[39;00m \u001b[38;5;124m\"\u001b[39m\u001b[38;5;124mb\u001b[39m\u001b[38;5;124m\"\u001b[39m \u001b[38;5;129;01mnot\u001b[39;00m \u001b[38;5;129;01min\u001b[39;00m ioargs\u001b[38;5;241m.\u001b[39mmode:\n\u001b[0;32m    872\u001b[0m         \u001b[38;5;66;03m# Encoding\u001b[39;00m\n\u001b[1;32m--> 873\u001b[0m         handle \u001b[38;5;241m=\u001b[39m \u001b[38;5;28mopen\u001b[39m(\n\u001b[0;32m    874\u001b[0m             handle,\n\u001b[0;32m    875\u001b[0m             ioargs\u001b[38;5;241m.\u001b[39mmode,\n\u001b[0;32m    876\u001b[0m             encoding\u001b[38;5;241m=\u001b[39mioargs\u001b[38;5;241m.\u001b[39mencoding,\n\u001b[0;32m    877\u001b[0m             errors\u001b[38;5;241m=\u001b[39merrors,\n\u001b[0;32m    878\u001b[0m             newline\u001b[38;5;241m=\u001b[39m\u001b[38;5;124m\"\u001b[39m\u001b[38;5;124m\"\u001b[39m,\n\u001b[0;32m    879\u001b[0m         )\n\u001b[0;32m    880\u001b[0m     \u001b[38;5;28;01melse\u001b[39;00m:\n\u001b[0;32m    881\u001b[0m         \u001b[38;5;66;03m# Binary mode\u001b[39;00m\n\u001b[0;32m    882\u001b[0m         handle \u001b[38;5;241m=\u001b[39m \u001b[38;5;28mopen\u001b[39m(handle, ioargs\u001b[38;5;241m.\u001b[39mmode)\n",
      "\u001b[1;31mFileNotFoundError\u001b[0m: [Errno 2] No such file or directory: 'Intermediary_files/tonsil/all_cells.csv'"
     ]
    }
   ],
   "source": [
    "from filtering_functions import perform_filtering\n",
    "\n",
    "perform_filtering(config)"
   ]
  },
  {
   "cell_type": "markdown",
   "id": "e101ea69",
   "metadata": {},
   "source": [
    "# 3. Generate subgraphs\n",
    "A subgraph is a component of a network in case that netqwork is not fully connected and is how all networks are referred to in the pipeline. This function allows us to impose multiple lower bound filterings to analyze how and if subgraphs are formed at each filtering threshold.\n",
    "By default, the options are that of the tonsil analysis in the manuscript:\n",
    "- The bead-cell bipartite network is used\n",
    "- Only subgraphs with 50 or nodes (cells and/or beads) are kept\n",
    "- No other filtering is applied\n",
    "\n",
    "Other subgraph generation options include:\n",
    "- Switching network type - bipartite bead-cell (default) AND/OR unipartite cell-cell\n",
    "- Changing subgraph lower size limit (50 default)\n",
    "- Unipartite filtering type - Unipartite cell-cell networks can be filtered either based on bead-per-edge or UMIs-per-edge\n",
    "- Changing filtering thresholds - Multiple lower threshoplds can be specified and all will be used and generate subgraphs (default None)\n"
   ]
  },
  {
   "cell_type": "code",
   "execution_count": null,
   "id": "a76a7f6b",
   "metadata": {},
   "outputs": [],
   "source": [
    "from subgraph_processing_functions import perform_subgraph_generation_by_filtering\n",
    "perform_subgraph_generation_by_filtering(config)"
   ]
  },
  {
   "cell_type": "markdown",
   "id": "23a93c49",
   "metadata": {},
   "source": [
    "# 4. Reconstruct\n",
    "After generating the desired subgraphs, for which there are serveral options;\n",
    "- Number of reconstructions - performing multiple recosntructions to i.e. assess variance in quality metrics (default: 1)\n",
    "\n",
    "There multiple tiered options for choosing exactly which subgraphs to reconstruct:\n",
    "1. Choosing which dimension to recosntruct into - the reconstruction algorithm can produce any dimension of int hef inal coordianates, although only 2 and 3 dimension is supported in this pipeline (default: 2D)\n",
    "2. Choosing to reconstruct all or not - if True, all subgraphs from all thresholds are reconstructed (default: False)\n",
    "3. Choosing the network type to reconstruct - bi- (bead-cell) or unipartite (cell-cell), if unipartite also the filtering type (beads, umi, or both) wehile bipartiote only has the \"umi\" filtering type (default: bipartite, umi)\n",
    "4. Choosing to reconstruct all filtering threshold or a selection of specific ones (default: all)\n",
    "5. Choosing which specific subgraphs to reconstruct - options include all subgraphs, the biggest subgraph, or choosing a specific one based on its number (default: all)\n",
    "\n",
    "One additional option is whether to delete the files in the STRND structure after reconstruction completion. This is by default True, since all files are copied to other locations it is recommended to keep True\n",
    "\n",
    "Summarized, the default is that all subgraphs (of which there should generally only be a single subgraph) of the bipartite bead-cell network is reconstructed in 2D once without additional filtering. If the default was used for the prior steps as well, the reconstruction should take around 10 minutes to complete, depending on exact computing specifications."
   ]
  },
  {
   "cell_type": "code",
   "execution_count": null,
   "id": "e17f4d5f",
   "metadata": {},
   "outputs": [],
   "source": [
    "from reconstruction_functions import interpret_config_and_reconstruct\n",
    "interpret_config_and_reconstruct(config)"
   ]
  },
  {
   "cell_type": "markdown",
   "id": "31b782d8",
   "metadata": {},
   "source": [
    "# 5. Reconstruction analysis\n",
    "\n",
    "Assessing the results of the reconstruction is the final step of a first-pass reconstruction, and of this notebook.\n",
    "Note it uses a separate config file. Where as the config for the previous steps was used to choose processing steps, for the analysis the config is used to identify the subgraphs of interest. Similarly ot the preprocessing,  two configs are available by default; tonsil bipartite and mouse embryonic unipartite\n",
    "\n",
    "This function does two main things:\n",
    "1. Produces three files required in further analysis; a detailed edgelist, a summary of the reconstructed positions for all reconstructions, and a summary of the per-node quality metrics\n",
    "2. Produce a plot showing the reconstruction side-by-side with the available reference positions which includes quality metrics CPD and KNN\n",
    "\n",
    "The options for choosing subgraphs to analyse are similar to previous steps i.e. reconstruction dimension, network type, and various filtering parameters. Default is finding the subgraphs produced by the previous defaults.\n",
    "\n",
    "In the context of this first-pass reconstruction notebook, notable options are:\n",
    "- Choosing *K* for the KNN quality metric (Default: 15)\n",
    "- Various visualization options include:\n",
    "  - Plotting one or multiple reconstructions (if present)\n",
    "  - Showing the reconstructed points or their distortion, and choosing between unmorphed or morphed versions (Default: Base reconstruction)\n",
    "  - Cell coloring scheme (Default: by cell type, with colors provided by cell_colors.py)\n",
    "  - Choosing colormap (Default: magma_r)\n",
    "  - image output format (Default: PNG)\n",
    "\n",
    "There are also other options, but they are more relevant after further analysis performed in other notebooks.\n",
    "After performing this step, there are several options on how to proceed:\n",
    "1. Perform more in-depth analysis on the reconstruction with many options in the \"additional_subgraph_analysis\" notebook\n",
    "2. Perform an iterative reconstruction in the \"subgraph_modification\" notebook\n",
    "3. Perform the biological analysis using the R-based \"slidetags-network\" R project"
   ]
  },
  {
   "cell_type": "code",
   "execution_count": null,
   "id": "7e75ab57",
   "metadata": {},
   "outputs": [],
   "source": [
    "from Utils import *\n",
    "from subgraph_analysis_functions import perform_analysis_actions\n",
    "# Default configs: config_subgraph_analysis.py or config_subgraph_analysis_mouse_embryo_uni.py\n",
    "config_analysis = ConfigLoader('config_subgraph_analysis.py') \n",
    "\n",
    "perform_analysis_actions(config_analysis)"
   ]
  }
 ],
 "metadata": {
  "kernelspec": {
   "display_name": "Publication_test",
   "language": "python",
   "name": "python3"
  },
  "language_info": {
   "codemirror_mode": {
    "name": "ipython",
    "version": 3
   },
   "file_extension": ".py",
   "mimetype": "text/x-python",
   "name": "python",
   "nbconvert_exporter": "python",
   "pygments_lexer": "ipython3",
   "version": "3.11.10"
  }
 },
 "nbformat": 4,
 "nbformat_minor": 5
}
