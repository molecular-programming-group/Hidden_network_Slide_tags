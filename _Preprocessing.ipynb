{
 "cells": [
  {
   "cell_type": "markdown",
   "id": "1616f1a5",
   "metadata": {},
   "source": [
    "# 0. create project structure and import utility functions\n",
    "After doing this, put the required files in the \"Input_files\" folder. Including approximate names, these should be:\n",
    "- Slide-tags spatial data   :   \"df_whitelist_{Sample/Project/Run}.csv\"\n",
    "- 10x barcode pairs         :   \"3M-february-2018.txt\"                      or equivalent\n",
    "- Known cell barcodes       :   \"barcodes_{Sample}.csv\"                     Single-cell derived barcodes\n",
    "- Slide-tags results        :   \"{Sample}_spatial.csv\"                      Slide-tags results, used to analyse check results but not strictly required until then\n",
    "\n",
    "It is also possible in each step to re-load config if changes are done in the middle.\n",
    "\n",
    "For the Tonsil analyses, leave the config as is or to perform the unipartite mouse embryonic analysis, switch to the config to \"config_standard_processes_mouse_embryo_uni.py\", otherwise the configs has to be manually changed or a new config created."
   ]
  },
  {
   "cell_type": "code",
   "execution_count": null,
   "id": "aa8433bd",
   "metadata": {},
   "outputs": [],
   "source": [
    "from Utils import *\n",
    "create_structure()\n",
    "# default options: config_standard_processes.py or config_standard_processes_mouse_embryo_uni.py\n",
    "config = ConfigLoader('config_standard_processes.py') \n"
   ]
  },
  {
   "cell_type": "markdown",
   "id": "aea92295-b137-4abe-a039-627039cc8198",
   "metadata": {},
   "source": [
    "# 1. Process raw edge file\n",
    "\n",
    "The edge file (df_whitelist_{Project}.txt) generated from Russell et als' pipeline will go through slight modification for easier handling in the downstream.\n",
    "\n",
    "- The first cell loads packages and creates project structure if not already present, after running this the required files should be added to the \"Input_files\" folder. \n",
    "\n",
    "- The second step is mandatory, and entails switching the cell barcodes with their counterpart in the 10X provided barcode document denoted \"3M-february-2018.txt\".\n",
    "\n",
    "- The third step is optional, and entails filtering the edge list, keeping only cells with a known position, as determined by Russell et al. This can also be used to remove any other barcodes you do not want to analyze. Both of these files are downloaded from the NCBI single-cell database for each specific experiment."
   ]
  },
  {
   "cell_type": "code",
   "execution_count": null,
   "id": "ab4eaa8d-547a-418c-b0b9-330545e46639",
   "metadata": {},
   "outputs": [],
   "source": [
    "from initial_processing_functions import perform_preprocessing\n",
    "perform_preprocessing(config)"
   ]
  },
  {
   "cell_type": "markdown",
   "id": "53b9ee6f",
   "metadata": {},
   "source": [
    "# 2. Filter edgelist\n",
    "The main purpose is to remove certain beads with undesirable properties. \n",
    "By default, the options are that of the tonsil analysis in the manuscript:\n",
    "- Lower limit of 2 UMI's per bead\n",
    "- Upper limit of 1500 UMIs per bead\n",
    "- Removal of any bead with an \"N\" in the bead sequence \n",
    "\n",
    "There are also other options for filtering that are not active by default:\n",
    "- Filtering beads based on degree\n",
    "- Imposing a lower limit of number of UMIs per edge"
   ]
  },
  {
   "cell_type": "code",
   "execution_count": null,
   "id": "5d307b9a",
   "metadata": {},
   "outputs": [],
   "source": [
    "from filtering_functions import perform_filtering\n",
    "\n",
    "perform_filtering(config)"
   ]
  },
  {
   "cell_type": "markdown",
   "id": "e101ea69",
   "metadata": {},
   "source": [
    "# 3. Generate subgraphs\n",
    "A subgraph is a component of a network in case that netqwork is not fully connected and is how all networks are referred to in the pipeline. This function allows us to impose multiple lower bound filterings to analyze how and if subgraphs are formed at each filtering threshold.\n",
    "By default, the options are that of the tonsil analysis in the manuscript:\n",
    "- The bead-cell bipartite network is used\n",
    "- Only subgraphs with 50 or nodes (cells and/or beads) are kept\n",
    "- No other filtering is applied\n",
    "\n",
    "Other subgraph generation options include:\n",
    "- Switching network type - bipartite bead-cell (default) AND/OR unipartite cell-cell\n",
    "- Changing subgraph lower size limit (50 default)\n",
    "- Unipartite filtering type - Unipartite cell-cell networks can be filtered either based on bead-per-edge or UMIs-per-edge\n",
    "- Changing filtering thresholds - Multiple lower threshoplds can be specified and all will be used and generate subgraphs (default None)\n"
   ]
  },
  {
   "cell_type": "code",
   "execution_count": null,
   "id": "a76a7f6b",
   "metadata": {},
   "outputs": [],
   "source": [
    "from subgraph_processing_functions import perform_subgraph_generation_by_filtering\n",
    "perform_subgraph_generation_by_filtering(config)"
   ]
  },
  {
   "cell_type": "markdown",
   "id": "23a93c49",
   "metadata": {},
   "source": [
    "# 4. Reconstruct\n",
    "After generating the desired subgraphs, for which there are serveral options;\n",
    "- Number of reconstructions - performing multiple recosntructions to i.e. assess variance in quality metrics (default: 1)\n",
    "\n",
    "There multiple tiered options for choosing exactly which subgraphs to reconstruct:\n",
    "1. Choosing which dimension to recosntruct into - the reconstruction algorithm can produce any dimension of int hef inal coordianates, although only 2 and 3 dimension is supported in this pipeline (default: 2D)\n",
    "2. Choosing to reconstruct all or not - if True, all subgraphs from all thresholds are reconstructed (default: False)\n",
    "3. Choosing the network type to reconstruct - bi- (bead-cell) or unipartite (cell-cell), if unipartite also the filtering type (beads, umi, or both) wehile bipartiote only has the \"umi\" filtering type (default: bipartite, umi)\n",
    "4. Choosing to reconstruct all filtering threshold or a selection of specific ones (default: all)\n",
    "5. Choosing which specific subgraphs to reconstruct - options include all subgraphs, the biggest subgraph, or choosing a specific one based on its number (default: all)\n",
    "\n",
    "One additional option is whether to delete the files in the STRND structure after reconstruction completion. This is by default True, since all files are copied to other locations it is recommended to keep True\n",
    "\n",
    "Summarized, the default is that all subgraphs (of which there should generally only be a single subgraph) of the bipartite bead-cell network is reconstructed in 2D once without additional filtering. If the default was used for the prior steps as well, the reconstruction should take around 10 minutes to complete, depending on exact computing specifications."
   ]
  },
  {
   "cell_type": "code",
   "execution_count": null,
   "id": "e17f4d5f",
   "metadata": {},
   "outputs": [],
   "source": [
    "from reconstruction_functions import interpret_config_and_reconstruct\n",
    "interpret_config_and_reconstruct(config)"
   ]
  },
  {
   "cell_type": "markdown",
   "id": "31b782d8",
   "metadata": {},
   "source": [
    "# 5. Reconstruction analysis\n",
    "\n",
    "Assessing the results of the reconstruction is the final step of a first-pass reconstruction, and of this notebook.\n",
    "Note it uses a separate config file. Where as the config for the previous steps was used to choose processing steps, for the analysis the config is used to identify the subgraphs of interest. Similarly ot the preprocessing,  two configs are available by default; tonsil bipartite and mouse embryonic unipartite\n",
    "\n",
    "This function does two main things:\n",
    "1. Produces three files required in further analysis; a detailed edgelist, a summary of the reconstructed positions for all reconstructions, and a summary of the per-node quality metrics\n",
    "2. Produce a plot showing the reconstruction side-by-side with the available reference positions which includes quality metrics CPD and KNN\n",
    "\n",
    "The options for choosing subgraphs to analyse are similar to previous steps i.e. reconstruction dimension, network type, and various filtering parameters. Default is finding the subgraphs produced by the previous defaults.\n",
    "\n",
    "In the context of this first-pass reconstruction notebook, notable options are:\n",
    "- Choosing *K* for the KNN quality metric (Default: 15)\n",
    "- Various visualization options include:\n",
    "  - Plotting one or multiple reconstructions (if present)\n",
    "  - Showing the reconstructed points or their distortion, and choosing between unmorphed or morphed versions (Default: Base reconstruction)\n",
    "  - Cell coloring scheme (Default: by cell type, with colors provided by cell_colors.py)\n",
    "  - Choosing colormap (Default: magma_r)\n",
    "  - image output format (Default: PNG)\n",
    "\n",
    "There are also other options, but they are more relevant after further analysis performed in other notebooks.\n",
    "After performing this step, there are several options on how to proceed:\n",
    "1. Perform more in-depth analysis on the reconstruction with many options in the \"additional_subgraph_analysis\" notebook\n",
    "2. Perform an iterative reconstruction in the \"subgraph_modification\" notebook\n",
    "3. Perform the biological analysis using the R-based \"slidetags-network\" R project"
   ]
  },
  {
   "cell_type": "code",
   "execution_count": null,
   "id": "7e75ab57",
   "metadata": {},
   "outputs": [],
   "source": [
    "from Utils import *\n",
    "from subgraph_analysis_functions import perform_analysis_actions\n",
    "# Default configs: config_subgraph_analysis.py or config_subgraph_analysis_mouse_embryo_uni.py\n",
    "config_analysis = ConfigLoader('config_subgraph_analysis.py') \n",
    "\n",
    "perform_analysis_actions(config_analysis)"
   ]
  }
 ],
 "metadata": {
  "kernelspec": {
   "display_name": "slidetags_network",
   "language": "python",
   "name": "python3"
  },
  "language_info": {
   "codemirror_mode": {
    "name": "ipython",
    "version": 3
   },
   "file_extension": ".py",
   "mimetype": "text/x-python",
   "name": "python",
   "nbconvert_exporter": "python",
   "pygments_lexer": "ipython3",
   "version": "3.11.10"
  }
 },
 "nbformat": 4,
 "nbformat_minor": 5
}
