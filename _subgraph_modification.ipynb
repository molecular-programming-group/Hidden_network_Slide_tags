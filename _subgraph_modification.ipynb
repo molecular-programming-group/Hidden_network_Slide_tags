{
 "cells": [
  {
   "cell_type": "markdown",
   "metadata": {},
   "source": [
    "# Subgraph modification\n",
    "Two main methods of subgraph modification is implemented here: DBSCAN and enrichment and they should be performed after first going through the \"Preprocessing\" notebook.\n",
    "\n",
    "DBSCAN is suited for networks with relatively high recosntruction qualities, as it iterates on the reconstructed positions to improve reconstruction quality.\n",
    "\n",
    "Enrichment is best performed for highly filtered, sparse networks and does not require any previous reconstruction only an edgelist and edgelists from lower filtering thresholds. It can be performed on both bipartite or unipartite networks. - **not currently present in the notebook**"
   ]
  },
  {
   "cell_type": "markdown",
   "metadata": {},
   "source": [
    "## DBSCAN iterative reconstruction\n",
    "DBSCAN iterative reconstruction utilizes the reconstructed bead positions for beads sharing an edge with each cell individually.\n",
    "\n",
    "By clustering the bead positions we can remove edges to bead not assigned to the largest cluster in the reconstruction, as a perfect, reconstructed spatial network should have no long-range edges removing these lessen compressive strain on the system, improving reconstruction significantly.\n",
    "\n",
    "Before running the DBSCAN subgraph modification itself, some parameter optimization can be performed recommended to choose the min_sample that result in the largest amount of single-cluster cells. The eps value is assesable, but should be kept relatively low as to not assign beads to clusters that they are likely not part of.\n",
    "\n",
    "If no optimization is desired, simply run the second cell and it will perform the DBSCAN clustering at default parameters (min_samples = 12 and eps = 5%) and reconstruct the processed network"
   ]
  },
  {
   "cell_type": "code",
   "execution_count": null,
   "metadata": {},
   "outputs": [],
   "source": [
    "from Utils import *\n",
    "config = ConfigLoader('config_subgraph_analysis.py')\n",
    "\n",
    "from additional_subgraph_analysis import additional_subgraph_analysis\n",
    "categories = [\"analyse\"] # analyse or position\n",
    "plot_what = [\"dbscan_calculation\", \"dbscan_analysis\"]\n",
    "\n",
    "additional_arguments = [range(5, 16)]\n",
    "for cat in categories:\n",
    "    for plotting_type in plot_what:\n",
    "        additional_subgraph_analysis(config, category = cat, plotting_type = plotting_type, additional_arguments = additional_arguments)\n",
    "plt.show()"
   ]
  },
  {
   "cell_type": "code",
   "execution_count": null,
   "metadata": {},
   "outputs": [],
   "source": [
    "from Utils import *\n",
    "from subgraph_modification_functions import perform_dbscan_gated_double_reconstruction\n",
    "\n",
    "config = ConfigLoader(\"config_subgraph_modification.py\")\n",
    "perform_dbscan_gated_double_reconstruction(config)"
   ]
  },
  {
   "cell_type": "markdown",
   "metadata": {},
   "source": [
    "# Enrichment"
   ]
  }
 ],
 "metadata": {
  "kernelspec": {
   "display_name": "slidetags_network",
   "language": "python",
   "name": "python3"
  },
  "language_info": {
   "codemirror_mode": {
    "name": "ipython",
    "version": 3
   },
   "file_extension": ".py",
   "mimetype": "text/x-python",
   "name": "python",
   "nbconvert_exporter": "python",
   "pygments_lexer": "ipython3",
   "version": "3.11.10"
  }
 },
 "nbformat": 4,
 "nbformat_minor": 2
}
