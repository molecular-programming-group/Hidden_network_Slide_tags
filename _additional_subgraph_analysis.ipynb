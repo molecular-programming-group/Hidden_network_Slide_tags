{
 "cells": [
  {
   "cell_type": "markdown",
   "metadata": {},
   "source": [
    "# Setting up the config\n",
    "while the additional analysis uses the same config as the basic analysis, it uses the additional options to a greater degree, and while it is possible to modify these in the while, when working in jupyter it has to reload the kernel to detect changes in files, and thus it is also possible to edit properties of the config as you would a class object. \n",
    "\n",
    "This is mostly useful if swapping between samples or sample types and is demonstrated below"
   ]
  },
  {
   "cell_type": "code",
   "execution_count": 2,
   "metadata": {},
   "outputs": [],
   "source": [
    "from Utils import *\n",
    "config = ConfigLoader('config_subgraph_analysis.py')\n",
    "\n",
    "#for example, swapping to the tonsil sample if it was changed to something else\n",
    "config.sample_name = \"tonsil\"\n",
    "\n",
    "#or swapping the image saving format\n",
    "config.vizualisation_args.save_to_image_format = \"png\""
   ]
  },
  {
   "cell_type": "markdown",
   "metadata": {},
   "source": [
    "# Subgraph analysis\n",
    "Before performing additional analysis steps, the basic analysis has to be run to generate the files required for the more extensive analytical functions.\n",
    "The deeper analysis usese the same config to localt subgraphs and their reconstructions, so any changes will be seen in both."
   ]
  },
  {
   "cell_type": "code",
   "execution_count": null,
   "metadata": {},
   "outputs": [],
   "source": [
    "from subgraph_analysis_functions import perform_analysis_actions\n",
    "perform_analysis_actions(config)"
   ]
  },
  {
   "cell_type": "markdown",
   "metadata": {},
   "source": [
    "# Additional Subgraph analysis\n",
    "After the inital analysis, there are many options available for analysis and the full list is available in the \"additional_analyses.txt\" document with full descriptions.\n",
    "\n",
    "It also has two types of categories: \"analyse\" and \"positions\", where \"analyse\" concerns more metric analyses and will generally not show the reconstructed positions directly. and \"positions\" analysis will however show the reconstrcuted positions\n",
    "\n",
    "Some of the more commonly relevant are described below: \n",
    "\n",
    "For the metric-type plots, the current list with descriptions are:\n",
    "(* or ** indicates it needs one or two additional arguments)\n",
    "```\n",
    "distance_distribution       - Distribution of the mean distance per edge\n",
    "knn\n",
    "cpd                         - scatterplot of CPD, coloured by density\n",
    "distortion\n",
    "```\n",
    "\n",
    "For the positions-type plots, the current list with descriptions are:\n",
    "(* or ** indicates it needs one or two additional arguments)\n",
    "```\n",
    "beads*                      - Plots the bead positions of the first reconstruction, coloured by estimated bead density *Additional argument: Color by density True (default: False)\n",
    "all_cells                   - Plots all cells, coloring cells without a ground truth by their estimated cell type, and cells without one in gray #not implememnted\n",
    "gt_cells                    - Plots all cells with their corresponding cell type color, and cells withotut a ground truth in gray #not implememnted\n",
    "new_cells                   - plots only the non-ground truth cells, with their predicted cell type if they have one #not implememnted\n",
    "all_nodes                   - Plots all nodes, including beads #not implememnted\n",
    "all_nodes_with_edges        - plots all nodes, with edges (can take a bit if there are a lot of edges) #not implememnted\n",
    "gt_uni_edges*               - Plots the edges resulting from a unipartite projection on the cells *Additional argument: length threshold if not all edges (default: None)\n",
    "```"
   ]
  },
  {
   "cell_type": "code",
   "execution_count": null,
   "metadata": {},
   "outputs": [],
   "source": [
    "\n",
    "from Utils import *\n",
    "config = ConfigLoader('config_subgraph_analysis.py')\n",
    "from additional_subgraph_analysis import additional_subgraph_analysis\n",
    "categories = [\"analyse\"] # analyse or\n",
    "plot_what = [\"edge_distance\"]\n",
    "config.subgraph_to_analyse.gating_threshold =\"pseudo=False\"\n",
    "additional_arguments = [\"subsample\"]\n",
    "for cat in categories:\n",
    "    for plotting_type in plot_what:\n",
    "        additional_subgraph_analysis(config, category = cat, plotting_type = plotting_type, additional_arguments = additional_arguments)\n",
    "plt.show()"
   ]
  }
 ],
 "metadata": {
  "kernelspec": {
   "display_name": "slidetags_network",
   "language": "python",
   "name": "python3"
  },
  "language_info": {
   "codemirror_mode": {
    "name": "ipython",
    "version": 3
   },
   "file_extension": ".py",
   "mimetype": "text/x-python",
   "name": "python",
   "nbconvert_exporter": "python",
   "pygments_lexer": "ipython3",
   "version": "3.11.10"
  }
 },
 "nbformat": 4,
 "nbformat_minor": 2
}
