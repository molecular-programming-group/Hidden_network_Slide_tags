{
 "cells": [
  {
   "cell_type": "markdown",
   "metadata": {},
   "source": [
    "# Setting up the config\n",
    "while the additional analysis uses the same config as the basic analysis, it uses the additional options to a greater degree, and while it is possible to modify these in the while, when working in jupyter it has to reload the kernel to detect changes in files, and thus it is also possible to edit properties of the config as you would a class object. \n",
    "\n",
    "This is mostly useful if swapping between samples or sample types and is demonstrated below"
   ]
  },
  {
   "cell_type": "code",
   "execution_count": 2,
   "metadata": {},
   "outputs": [],
   "source": [
    "from Utils import *\n",
    "config = ConfigLoader('config_subgraph_analysis.py')\n",
    "\n",
    "#for example, swapping to the tonsil sample if it was changed to something else\n",
    "config.sample_name = \"tonsil\"\n",
    "\n",
    "#or swapping the image saving format\n",
    "config.vizualisation_args.save_to_image_format = \"png\""
   ]
  },
  {
   "cell_type": "markdown",
   "metadata": {},
   "source": [
    "# Subgraph analysis\n",
    "Before performing additional analysis steps, the basic analysis has to be run to generate the files required for the more extensive analytical functions.\n",
    "The deeper analysis usese the same config to localt subgraphs and their reconstructions, so any changes will be seen in both."
   ]
  },
  {
   "cell_type": "code",
   "execution_count": null,
   "metadata": {},
   "outputs": [],
   "source": [
    "from subgraph_analysis_functions import perform_analysis_actions\n",
    "perform_analysis_actions(config)"
   ]
  },
  {
   "cell_type": "markdown",
   "metadata": {},
   "source": [
    "# Additional Subgraph analysis\n",
    "After the inital analysis, there are many options available for analysis and the full list is available in the \"additional_analyses.txt\" document with full descriptions.\n",
    "\n",
    "It also has two types of categories: \"analyse\" and \"positions\", where \"analyse\" concerns more metric analyses and will generally not show the reconstructed positions directly. and \"positions\" analysis will however show the reconstrcuted positions\n",
    "\n",
    "Some of the more commonly relevant are described below: \n",
    "\n",
    "For the metric-type plots, the current list with descriptions are:\n",
    "(* or ** indicates it needs one or two additional arguments)\n",
    "```\n",
    "distance_distribution       - Distribution of the mean distance per edge\n",
    "knn\n",
    "cpd                         - scatterplot of CPD, coloured by density\n",
    "distortion\n",
    "```\n",
    "\n",
    "For the positions-type plots, the current list with descriptions are:\n",
    "(* or ** indicates it needs one or two additional arguments)\n",
    "```\n",
    "beads*                      - Plots the bead positions of the first reconstruction, coloured by estimated bead density *Additional argument: Color by density True (default: False)\n",
    "all_cells                   - Plots all cells, coloring cells without a ground truth by their estimated cell type, and cells without one in gray #not implememnted\n",
    "gt_cells                    - Plots all cells with their corresponding cell type color, and cells withotut a ground truth in gray #not implememnted\n",
    "new_cells                   - plots only the non-ground truth cells, with their predicted cell type if they have one #not implememnted\n",
    "all_nodes                   - Plots all nodes, including beads #not implememnted\n",
    "all_nodes_with_edges        - plots all nodes, with edges (can take a bit if there are a lot of edges) #not implememnted\n",
    "gt_uni_edges*               - Plots the edges resulting from a unipartite projection on the cells *Additional argument: length threshold if not all edges (default: None)\n",
    "```"
   ]
  },
  {
   "cell_type": "code",
   "execution_count": 2,
   "metadata": {},
   "outputs": [
    {
     "name": "stdout",
     "output_type": "stream",
     "text": [
      "Initializing files\n",
      "\n",
      "Current Threshold:  1\n",
      "Initializing files\n",
      "Output_files\\tonsil\\run=all_cells_filters=numi2-1500_nconn2-1500_w1\\bi-umis_1_2D\n",
      "['full_reconstruction_summary_subgraph_1_N=93859.csv']\n",
      "ungated\n",
      "         source  target         source_bc       target_bc   source_type  \\\n",
      "0             1    9353  AAACCCATCATCGCAA  AAAAATGTCCAGCC      B_memory   \n",
      "1            18    9353  AAACGCTGTTAAGACA  AAAAATGTCCAGCC            NK   \n",
      "2            56    9353  AAAGGGCTCTCCACTG  AAAAATGTCCAGCC       B_naive   \n",
      "3            94    9353  AAAGTGAAGTCATACC  AAAAATGTCCAGCC  unknown_cell   \n",
      "4           184    9353  AACCTTTGTCGCGGTT  AAAAATGTCCAGCC  unknown_cell   \n",
      "...         ...     ...               ...             ...           ...   \n",
      "1615242    9340  388508  TTTGGTTCAAATTGCC  CTAGTACTCCTCAC  unknown_cell   \n",
      "1615243    9260  388749  TTTATGCCAGATAAAC  TGGCGGCTCATACC        plasma   \n",
      "1615244    9341  388749  TTTGGTTCAGCATCTA  TGGCGGCTCATACC  unknown_cell   \n",
      "1615245    9280  389099  TTTCAGTCAACACACT  TACGGACTACCCCG  unknown_cell   \n",
      "1615246    9312  389099  TTTGACTGTACTCGCG  TACGGACTACCCCG       B_naive   \n",
      "\n",
      "        target_type  distance_1  distance_2  distance_3  mean_distance  \\\n",
      "0              bead    0.176809    0.253667    0.212333       0.214270   \n",
      "1              bead    0.262198    0.288987    0.298254       0.283146   \n",
      "2              bead    0.288371    0.341638    0.318388       0.316132   \n",
      "3              bead    0.012988    0.004083    0.014801       0.010624   \n",
      "4              bead    0.210851    0.216444    0.193257       0.206851   \n",
      "...             ...         ...         ...         ...            ...   \n",
      "1615242        bead    0.033883    0.027444    0.031978       0.031102   \n",
      "1615243        bead    0.537400    0.069037    0.060057       0.222165   \n",
      "1615244        bead    0.006501    0.041427    0.069024       0.038984   \n",
      "1615245        bead    0.017977    0.026696    0.024022       0.022898   \n",
      "1615246        bead    0.079220    0.111152    0.029125       0.073166   \n",
      "\n",
      "         std_distance  nUMI  max_diff_distance  \n",
      "0            0.038466     1           0.076858  \n",
      "1            0.018724     2           0.036056  \n",
      "2            0.026705     1           0.053267  \n",
      "3            0.005737     3           0.010718  \n",
      "4            0.012100     1           0.023187  \n",
      "...               ...   ...                ...  \n",
      "1615242      0.003308     1           0.006439  \n",
      "1615243      0.273039     1           0.477343  \n",
      "1615244      0.031333     1           0.062524  \n",
      "1615245      0.004467     1           0.008719  \n",
      "1615246      0.041347     1           0.082026  \n",
      "\n",
      "[1615247 rows x 13 columns]\n",
      "Output_files\\tonsil\\run=all_cells_filters=numi2-1500_nconn2-1500_w1\\bi-umis_1_2D\n",
      "['full_reconstruction_summary_subgraph_1_N=93859.csv']\n",
      "ungated\n",
      "         source  target         source_bc       target_bc   source_type  \\\n",
      "0             1    9353  AAACCCATCATCGCAA  AAAAATGTCCAGCC      B_memory   \n",
      "1            18    9353  AAACGCTGTTAAGACA  AAAAATGTCCAGCC            NK   \n",
      "2            56    9353  AAAGGGCTCTCCACTG  AAAAATGTCCAGCC       B_naive   \n",
      "3            94    9353  AAAGTGAAGTCATACC  AAAAATGTCCAGCC  unknown_cell   \n",
      "4           184    9353  AACCTTTGTCGCGGTT  AAAAATGTCCAGCC  unknown_cell   \n",
      "...         ...     ...               ...             ...           ...   \n",
      "1615242    9340  388508  TTTGGTTCAAATTGCC  CTAGTACTCCTCAC  unknown_cell   \n",
      "1615243    9260  388749  TTTATGCCAGATAAAC  TGGCGGCTCATACC        plasma   \n",
      "1615244    9341  388749  TTTGGTTCAGCATCTA  TGGCGGCTCATACC  unknown_cell   \n",
      "1615245    9280  389099  TTTCAGTCAACACACT  TACGGACTACCCCG  unknown_cell   \n",
      "1615246    9312  389099  TTTGACTGTACTCGCG  TACGGACTACCCCG       B_naive   \n",
      "\n",
      "        target_type  distance_1  distance_2  distance_3  mean_distance  \\\n",
      "0              bead    0.176809    0.253667    0.212333       0.214270   \n",
      "1              bead    0.262198    0.288987    0.298254       0.283146   \n",
      "2              bead    0.288371    0.341638    0.318388       0.316132   \n",
      "3              bead    0.012988    0.004083    0.014801       0.010624   \n",
      "4              bead    0.210851    0.216444    0.193257       0.206851   \n",
      "...             ...         ...         ...         ...            ...   \n",
      "1615242        bead    0.033883    0.027444    0.031978       0.031102   \n",
      "1615243        bead    0.537400    0.069037    0.060057       0.222165   \n",
      "1615244        bead    0.006501    0.041427    0.069024       0.038984   \n",
      "1615245        bead    0.017977    0.026696    0.024022       0.022898   \n",
      "1615246        bead    0.079220    0.111152    0.029125       0.073166   \n",
      "\n",
      "         std_distance  nUMI  max_diff_distance  \n",
      "0            0.038466     1           0.076858  \n",
      "1            0.018724     2           0.036056  \n",
      "2            0.026705     1           0.053267  \n",
      "3            0.005737     3           0.010718  \n",
      "4            0.012100     1           0.023187  \n",
      "...               ...   ...                ...  \n",
      "1615242      0.003308     1           0.006439  \n",
      "1615243      0.273039     1           0.477343  \n",
      "1615244      0.031333     1           0.062524  \n",
      "1615245      0.004467     1           0.008719  \n",
      "1615246      0.041347     1           0.082026  \n",
      "\n",
      "[1615247 rows x 13 columns]\n"
     ]
    },
    {
     "ename": "Exception",
     "evalue": "0 or more than one file found for detailed_edgelist_subgraph_1_N=93859.csv: []",
     "output_type": "error",
     "traceback": [
      "\u001b[1;31m---------------------------------------------------------------------------\u001b[0m",
      "\u001b[1;31mException\u001b[0m                                 Traceback (most recent call last)",
      "Cell \u001b[1;32mIn[2], line 10\u001b[0m\n\u001b[0;32m      8\u001b[0m \u001b[38;5;28;01mfor\u001b[39;00m cat \u001b[38;5;129;01min\u001b[39;00m categories:\n\u001b[0;32m      9\u001b[0m     \u001b[38;5;28;01mfor\u001b[39;00m plotting_type \u001b[38;5;129;01min\u001b[39;00m plot_what:\n\u001b[1;32m---> 10\u001b[0m         additional_subgraph_analysis(config, category \u001b[38;5;241m=\u001b[39m cat, plotting_type \u001b[38;5;241m=\u001b[39m plotting_type, additional_arguments \u001b[38;5;241m=\u001b[39m additional_arguments)\n\u001b[0;32m     11\u001b[0m plt\u001b[38;5;241m.\u001b[39mshow()\n",
      "File \u001b[1;32mc:\\Users\\simon.kolmodin\\Desktop\\Slide_Tag\\github_publication_test\\additional_subgraph_analysis.py:1926\u001b[0m, in \u001b[0;36madditional_subgraph_analysis\u001b[1;34m(config, category, plotting_type, additional_arguments)\u001b[0m\n\u001b[0;32m   1923\u001b[0m     all_subgraphs\u001b[38;5;241m.\u001b[39mplot_all_subgraphs(plotting_type\u001b[38;5;241m=\u001b[39mplotting_type, additional_metrics\u001b[38;5;241m=\u001b[39madditional_arguments)\n\u001b[0;32m   1924\u001b[0m \u001b[38;5;28;01melif\u001b[39;00m category \u001b[38;5;241m==\u001b[39m \u001b[38;5;124m\"\u001b[39m\u001b[38;5;124mpositions\u001b[39m\u001b[38;5;124m\"\u001b[39m:\n\u001b[0;32m   1925\u001b[0m     \u001b[38;5;66;03m# all_subgraphs.plot_positions(plotting_type = \"beads\")\u001b[39;00m\n\u001b[1;32m-> 1926\u001b[0m     all_subgraphs\u001b[38;5;241m.\u001b[39mplot_positions(plotting_type \u001b[38;5;241m=\u001b[39m plotting_type, additional_metrics \u001b[38;5;241m=\u001b[39m additional_arguments)\n\u001b[0;32m   1927\u001b[0m \u001b[38;5;28;01melse\u001b[39;00m:\n\u001b[0;32m   1928\u001b[0m     \u001b[38;5;28mprint\u001b[39m(\u001b[38;5;124m\"\u001b[39m\u001b[38;5;124mNo such category:\u001b[39m\u001b[38;5;124m\"\u001b[39m, category)\n",
      "File \u001b[1;32mc:\\Users\\simon.kolmodin\\Desktop\\Slide_Tag\\github_publication_test\\additional_subgraph_analysis.py:1867\u001b[0m, in \u001b[0;36mgatedSubgraphCollection.plot_positions\u001b[1;34m(self, plotting_type, additional_metrics)\u001b[0m\n\u001b[0;32m   1865\u001b[0m     subgraph\u001b[38;5;241m.\u001b[39mplot_edges_gt_estimated_beads(ax \u001b[38;5;241m=\u001b[39m ax1)\n\u001b[0;32m   1866\u001b[0m \u001b[38;5;28;01melif\u001b[39;00m plotting_type \u001b[38;5;241m==\u001b[39m \u001b[38;5;124m\"\u001b[39m\u001b[38;5;124mcell_types\u001b[39m\u001b[38;5;124m\"\u001b[39m:\n\u001b[1;32m-> 1867\u001b[0m     subgraph\u001b[38;5;241m.\u001b[39mplot_cell_types(fig \u001b[38;5;241m=\u001b[39m fig, additional_arguments \u001b[38;5;241m=\u001b[39m additional_metrics, subgraph_collection\u001b[38;5;241m=\u001b[39m\u001b[38;5;28mself\u001b[39m)\n\u001b[0;32m   1868\u001b[0m \u001b[38;5;28;01melif\u001b[39;00m plotting_type \u001b[38;5;241m==\u001b[39m\u001b[38;5;124m\"\u001b[39m\u001b[38;5;124mnode_types\u001b[39m\u001b[38;5;124m\"\u001b[39m:\n\u001b[0;32m   1869\u001b[0m     subgraph\u001b[38;5;241m.\u001b[39mplot_node_types(fig \u001b[38;5;241m=\u001b[39m fig, additional_arguments \u001b[38;5;241m=\u001b[39m additional_metrics)\n",
      "File \u001b[1;32mc:\\Users\\simon.kolmodin\\Desktop\\Slide_Tag\\github_publication_test\\additional_subgraph_analysis.py:1158\u001b[0m, in \u001b[0;36mgatedSubgraph.plot_cell_types\u001b[1;34m(***failed resolving arguments***)\u001b[0m\n\u001b[0;32m   1156\u001b[0m     \u001b[38;5;28;01mdel\u001b[39;00m fig\n\u001b[0;32m   1157\u001b[0m \u001b[38;5;66;03m# print(self.full_reconstruction_summary)\u001b[39;00m\n\u001b[1;32m-> 1158\u001b[0m base_full_recon \u001b[38;5;241m=\u001b[39m base_subgraph\u001b[38;5;241m.\u001b[39mfind_modified_full_reconstruction()\n\u001b[0;32m   1159\u001b[0m base_quality_metrics_and_gt \u001b[38;5;241m=\u001b[39m base_subgraph\u001b[38;5;241m.\u001b[39mreconstruction_summary\u001b[38;5;241m.\u001b[39mcopy()\u001b[38;5;241m.\u001b[39mreset_index()\u001b[38;5;241m.\u001b[39mset_index(\u001b[38;5;124m\"\u001b[39m\u001b[38;5;124mcell_type\u001b[39m\u001b[38;5;124m\"\u001b[39m)\n\u001b[0;32m   1161\u001b[0m full_recon \u001b[38;5;241m=\u001b[39m \u001b[38;5;28mself\u001b[39m\u001b[38;5;241m.\u001b[39mfull_reconstruction_summary\u001b[38;5;241m.\u001b[39mcopy()\n",
      "File \u001b[1;32mc:\\Users\\simon.kolmodin\\Desktop\\Slide_Tag\\github_publication_test\\additional_subgraph_analysis.py:429\u001b[0m, in \u001b[0;36mgatedSubgraph.find_modified_full_reconstruction\u001b[1;34m(self)\u001b[0m\n\u001b[0;32m    427\u001b[0m     \u001b[38;5;28;01mreturn\u001b[39;00m pd\u001b[38;5;241m.\u001b[39mread_csv(\u001b[38;5;124mf\u001b[39m\u001b[38;5;124m\"\u001b[39m\u001b[38;5;132;01m{\u001b[39;00m\u001b[38;5;28mself\u001b[39m\u001b[38;5;241m.\u001b[39mfile_location\u001b[38;5;132;01m}\u001b[39;00m\u001b[38;5;124m/\u001b[39m\u001b[38;5;132;01m{\u001b[39;00mmatching_files[\u001b[38;5;241m0\u001b[39m]\u001b[38;5;132;01m}\u001b[39;00m\u001b[38;5;124m\"\u001b[39m)\n\u001b[0;32m    428\u001b[0m \u001b[38;5;28;01melse\u001b[39;00m:\n\u001b[1;32m--> 429\u001b[0m     \u001b[38;5;28;01mraise\u001b[39;00m \u001b[38;5;167;01mException\u001b[39;00m(\u001b[38;5;124mf\u001b[39m\u001b[38;5;124m\"\u001b[39m\u001b[38;5;124m0 or more than one file found for \u001b[39m\u001b[38;5;132;01m{\u001b[39;00m\u001b[38;5;28mself\u001b[39m\u001b[38;5;241m.\u001b[39mname\u001b[38;5;132;01m}\u001b[39;00m\u001b[38;5;124m: \u001b[39m\u001b[38;5;132;01m{\u001b[39;00mmatching_files\u001b[38;5;132;01m}\u001b[39;00m\u001b[38;5;124m\"\u001b[39m)\n",
      "\u001b[1;31mException\u001b[0m: 0 or more than one file found for detailed_edgelist_subgraph_1_N=93859.csv: []"
     ]
    }
   ],
   "source": [
    "\n",
    "from Utils import *\n",
    "config = ConfigLoader('config_subgraph_analysis.py')\n",
    "from additional_subgraph_analysis import additional_subgraph_analysis\n",
    "categories = [\"positions\"] # analyse or\n",
    "plot_what = [\"cell_types\"]\n",
    "\n",
    "additional_arguments = []\n",
    "for cat in categories:\n",
    "    for plotting_type in plot_what:\n",
    "        additional_subgraph_analysis(config, category = cat, plotting_type = plotting_type, additional_arguments = additional_arguments)\n",
    "plt.show()"
   ]
  }
 ],
 "metadata": {
  "kernelspec": {
   "display_name": "slidetags_network",
   "language": "python",
   "name": "python3"
  },
  "language_info": {
   "codemirror_mode": {
    "name": "ipython",
    "version": 3
   },
   "file_extension": ".py",
   "mimetype": "text/x-python",
   "name": "python",
   "nbconvert_exporter": "python",
   "pygments_lexer": "ipython3",
   "version": "3.11.10"
  }
 },
 "nbformat": 4,
 "nbformat_minor": 2
}
