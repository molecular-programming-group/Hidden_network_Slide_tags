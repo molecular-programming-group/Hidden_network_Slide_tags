{
 "cells": [
  {
   "cell_type": "markdown",
   "id": "0f144ba4",
   "metadata": {},
   "source": [
    "# Base network analysis\n",
    "This notebook is used to examine individual samples in no-reconstruction metrics and properties such as degree distributions, UMI counts and so on.\n",
    "It is also used for downsampling, generating new edgelists from the individual sample edgelists"
   ]
  },
  {
   "cell_type": "code",
   "execution_count": null,
   "id": "f836bdb7-1eac-4503-91fb-8c2d83261330",
   "metadata": {},
   "outputs": [],
   "source": [
    "\n",
    "from Utils import *\n",
    "from base_network_multisample import *\n",
    "\n",
    "total_reads = [1059056528, 1044099392, 943979348]\n",
    "total_grepped_reads = [75815144, 8163457, 12501927]\n",
    "\n",
    "all_samples = [\"tonsil\", \"mouse_embryo\", \"mouse_hippocampus\"]\n",
    "all_sample_ground_truth_positions = [\"HumanTonsil_spatial.csv\", \"mouseembryo_spatial.csv\", \"mousehippocampus_spatial.csv\"]\n",
    "all_samples = [\"tonsil\"]\n",
    "all_sample_ground_truth_positions = [\"HumanTonsil_spatial.csv\"]\n",
    "\n",
    "sample_group = initialize_samples(all_samples, all_sample_ground_truth_positions)\n",
    "sample_group.viable_reads = total_grepped_reads\n",
    "sample_group.total_reads = total_reads\n",
    "# for fraction in [125]: # Used in downsampling\n",
    "    # sample_group.generate_nUMI_downsampled_samples()\n",
    "    # sample_group.generate_edges_downsampled_samples(fraction = fraction)\n",
    "    # sample_group.generate_bead_downsampled_samples()\n",
    "    # pass\n",
    "# sample_group.load_modified_samples()\n",
    "\n",
    "image_format = \"png\"\n",
    "sample_group.plot_degree_distributions(format = image_format)\n",
    "# sample_group.plot_counts(format= image_format)\n",
    "# sample_group.plot_distributions_beads(format= image_format)\n",
    "sample_group.plot_unipartite_edgelength_histogram(format = image_format)\n",
    "# sample_group.plot_degrees_per_cell_type()"
   ]
  }
 ],
 "metadata": {
  "kernelspec": {
   "display_name": "slidetags_network",
   "language": "python",
   "name": "python3"
  },
  "language_info": {
   "codemirror_mode": {
    "name": "ipython",
    "version": 3
   },
   "file_extension": ".py",
   "mimetype": "text/x-python",
   "name": "python",
   "nbconvert_exporter": "python",
   "pygments_lexer": "ipython3",
   "version": "3.11.10"
  }
 },
 "nbformat": 4,
 "nbformat_minor": 5
}
