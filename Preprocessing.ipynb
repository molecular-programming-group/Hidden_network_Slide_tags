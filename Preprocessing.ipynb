{
 "cells": [
  {
   "cell_type": "markdown",
   "id": "1616f1a5",
   "metadata": {},
   "source": [
    "# 0. create project structure and import utility functions\n",
    "After doing this, put the required files in the \"Input_files\" folder. Including approximate names, these should be:\n",
    "- Slide-tags spatial data   :   \"df_whitelist_{Sample/Project/Run}.csv\"\n",
    "- 10x barcode pairs         :   \"3M-february-2018.txt\"                      or equivalent\n",
    "- Known cell barcodes       :   \"barcodes_{Sample}.csv\"                     Single-cell derived barcodes\n",
    "- Slide-tags results        :   \"{Sample}_spatial.csv\"                      Slide-tags results, used to analyse check results but not strictly required until then\n",
    "\n",
    "It is also possible in each step to re-load config if changes are done in the middle."
   ]
  },
  {
   "cell_type": "code",
   "execution_count": null,
   "id": "aa8433bd",
   "metadata": {},
   "outputs": [],
   "source": [
    "from Utils import *\n",
    "create_structure()\n",
    "config = ConfigLoader('config_standard_processes.py') "
   ]
  },
  {
   "cell_type": "markdown",
   "id": "aea92295-b137-4abe-a039-627039cc8198",
   "metadata": {},
   "source": [
    "# 1. Process raw edge file\n",
    "\n",
    "The edge file (df_whitelist_{Project}.txt) generated from Russell et als' pipeline has to through slight modification to be appropriate for reference-free reconstruction.\n",
    "\n",
    "- The first cell loads packages and creates project structure if not already present, after running this the required files should be added to the \"Input_files\" folder. \n",
    "\n",
    "- The second step is mandatory, and entails switching the cell barcodes with their counterpart in the 10X provided barcode document denoted \"3M-february-2018.txt\".\n",
    "\n",
    "- The third step is optional, and entails filtering the edge list, keeping only cells with a known position, as determined by Russell et al. This can also be used to remove any other barcodes you do not want to analyze. Both of these files are downloaded from the NCBI single-cell database for each specific experiment."
   ]
  },
  {
   "cell_type": "code",
   "execution_count": 2,
   "id": "ab4eaa8d-547a-418c-b0b9-330545e46639",
   "metadata": {},
   "outputs": [
    {
     "ename": "KeyboardInterrupt",
     "evalue": "",
     "output_type": "error",
     "traceback": [
      "\u001b[1;31m---------------------------------------------------------------------------\u001b[0m",
      "\u001b[1;31mKeyboardInterrupt\u001b[0m                         Traceback (most recent call last)",
      "\u001b[1;32m~\\AppData\\Local\\Temp\\ipykernel_4364\\2428610864.py\u001b[0m in \u001b[0;36m?\u001b[1;34m()\u001b[0m\n\u001b[0;32m      1\u001b[0m \u001b[1;32mfrom\u001b[0m \u001b[0minitial_processing_functions\u001b[0m \u001b[1;32mimport\u001b[0m \u001b[0mperform_preprocessing\u001b[0m\u001b[1;33m\u001b[0m\u001b[1;33m\u001b[0m\u001b[0m\n\u001b[1;32m----> 2\u001b[1;33m \u001b[0mperform_preprocessing\u001b[0m\u001b[1;33m(\u001b[0m\u001b[0mconfig\u001b[0m\u001b[1;33m)\u001b[0m\u001b[1;33m\u001b[0m\u001b[1;33m\u001b[0m\u001b[0m\n\u001b[0m",
      "\u001b[1;32mc:\\Users\\simon.kolmodin\\Desktop\\Slide_Tag\\Publication_code\\initial_processing_functions.py\u001b[0m in \u001b[0;36m?\u001b[1;34m(config)\u001b[0m\n\u001b[0;32m     70\u001b[0m     \u001b[1;32mfrom\u001b[0m \u001b[0mUtils\u001b[0m \u001b[1;32mimport\u001b[0m \u001b[0mensure_directory\u001b[0m\u001b[1;33m,\u001b[0m \u001b[0mgenerate_barcode_idx_mapping\u001b[0m\u001b[1;33m\u001b[0m\u001b[1;33m\u001b[0m\u001b[0m\n\u001b[0;32m     71\u001b[0m     \u001b[0mensure_directory\u001b[0m\u001b[1;33m(\u001b[0m\u001b[1;34mf\"Intermediary_files/{config.sample_name}\"\u001b[0m\u001b[1;33m)\u001b[0m\u001b[1;33m\u001b[0m\u001b[1;33m\u001b[0m\u001b[0m\n\u001b[0;32m     72\u001b[0m     \u001b[0mslidetags_output_edges\u001b[0m\u001b[1;33m,\u001b[0m \u001b[0mCR_barcodes\u001b[0m\u001b[1;33m,\u001b[0m \u001b[0mfiltered_barcodes\u001b[0m\u001b[1;33m,\u001b[0m \u001b[0mexchange_df\u001b[0m \u001b[1;33m=\u001b[0m \u001b[0mload_data\u001b[0m\u001b[1;33m(\u001b[0m\u001b[0mconfig\u001b[0m\u001b[1;33m.\u001b[0m\u001b[0mpreprocessing_args\u001b[0m\u001b[1;33m.\u001b[0m\u001b[0mfilepaths\u001b[0m\u001b[1;33m)\u001b[0m\u001b[1;33m\u001b[0m\u001b[1;33m\u001b[0m\u001b[0m\n\u001b[0;32m     73\u001b[0m \u001b[1;33m\u001b[0m\u001b[0m\n\u001b[1;32m---> 74\u001b[1;33m     \u001b[0mswapped_edgefile\u001b[0m \u001b[1;33m=\u001b[0m \u001b[0mswap_paired_barcodes\u001b[0m\u001b[1;33m(\u001b[0m\u001b[0mslidetags_output_edges\u001b[0m\u001b[1;33m,\u001b[0m \u001b[0mexchange_df\u001b[0m\u001b[1;33m)\u001b[0m\u001b[1;33m\u001b[0m\u001b[1;33m\u001b[0m\u001b[0m\n\u001b[0m\u001b[0;32m     75\u001b[0m \u001b[1;33m\u001b[0m\u001b[0m\n\u001b[0;32m     76\u001b[0m     \u001b[0mgenerate_barcode_idx_mapping\u001b[0m\u001b[1;33m(\u001b[0m\u001b[0mconfig\u001b[0m\u001b[1;33m,\u001b[0m \u001b[0mswapped_edgefile\u001b[0m\u001b[1;33m)\u001b[0m\u001b[1;33m\u001b[0m\u001b[1;33m\u001b[0m\u001b[0m\n\u001b[0;32m     77\u001b[0m     \u001b[0mBad_cells_removed\u001b[0m \u001b[1;33m=\u001b[0m \u001b[0mfilter_barcodes\u001b[0m\u001b[1;33m(\u001b[0m\u001b[0mswapped_edgefile\u001b[0m\u001b[1;33m,\u001b[0m \u001b[0mCR_barcodes\u001b[0m\u001b[1;33m,\u001b[0m \u001b[0mfiltered_barcodes\u001b[0m\u001b[1;33m,\u001b[0m \u001b[0mconfig\u001b[0m\u001b[1;33m.\u001b[0m\u001b[0mpreprocessing_args\u001b[0m\u001b[1;33m.\u001b[0m\u001b[0monly_spatial_cells\u001b[0m\u001b[1;33m)\u001b[0m\u001b[1;33m\u001b[0m\u001b[1;33m\u001b[0m\u001b[0m\n",
      "\u001b[1;32mc:\\Users\\simon.kolmodin\\Desktop\\Slide_Tag\\Publication_code\\initial_processing_functions.py\u001b[0m in \u001b[0;36m?\u001b[1;34m(raw_output_edgefile, exchange_df)\u001b[0m\n\u001b[0;32m     33\u001b[0m     \u001b[0mexchanged_edges\u001b[0m \u001b[1;33m=\u001b[0m \u001b[0mraw_output_edgefile\u001b[0m\u001b[1;33m.\u001b[0m\u001b[0mcopy\u001b[0m\u001b[1;33m(\u001b[0m\u001b[1;33m)\u001b[0m\u001b[1;33m\u001b[0m\u001b[1;33m\u001b[0m\u001b[0m\n\u001b[0;32m     34\u001b[0m     \u001b[0mbc_mapping\u001b[0m \u001b[1;33m=\u001b[0m \u001b[0mdict\u001b[0m\u001b[1;33m(\u001b[0m\u001b[0mzip\u001b[0m\u001b[1;33m(\u001b[0m\u001b[0mexchange_df\u001b[0m\u001b[1;33m[\u001b[0m\u001b[1;34m\"bc_2\"\u001b[0m\u001b[1;33m]\u001b[0m\u001b[1;33m,\u001b[0m \u001b[0mexchange_df\u001b[0m\u001b[1;33m[\u001b[0m\u001b[1;34m\"bc_1\"\u001b[0m\u001b[1;33m]\u001b[0m\u001b[1;33m)\u001b[0m\u001b[1;33m)\u001b[0m\u001b[1;33m\u001b[0m\u001b[1;33m\u001b[0m\u001b[0m\n\u001b[0;32m     35\u001b[0m \u001b[1;33m\u001b[0m\u001b[0m\n\u001b[0;32m     36\u001b[0m     \u001b[1;31m# Create a new column with the updated cell barcodes using the mapping\u001b[0m\u001b[1;33m\u001b[0m\u001b[1;33m\u001b[0m\u001b[0m\n\u001b[1;32m---> 37\u001b[1;33m     \u001b[0mexchanged_edges\u001b[0m\u001b[1;33m[\u001b[0m\u001b[1;34m'updated_cell_bc_10x'\u001b[0m\u001b[1;33m]\u001b[0m \u001b[1;33m=\u001b[0m \u001b[0mexchanged_edges\u001b[0m\u001b[1;33m[\u001b[0m\u001b[1;34m'cell_bc_10x'\u001b[0m\u001b[1;33m]\u001b[0m\u001b[1;33m.\u001b[0m\u001b[0mmap\u001b[0m\u001b[1;33m(\u001b[0m\u001b[0mbc_mapping\u001b[0m\u001b[1;33m)\u001b[0m\u001b[1;33m.\u001b[0m\u001b[0mfillna\u001b[0m\u001b[1;33m(\u001b[0m\u001b[0mraw_output_edgefile\u001b[0m\u001b[1;33m[\u001b[0m\u001b[1;34m'cell_bc_10x'\u001b[0m\u001b[1;33m]\u001b[0m\u001b[1;33m)\u001b[0m\u001b[1;33m\u001b[0m\u001b[1;33m\u001b[0m\u001b[0m\n\u001b[0m\u001b[0;32m     38\u001b[0m \u001b[1;33m\u001b[0m\u001b[0m\n\u001b[0;32m     39\u001b[0m     \u001b[0mexchanged_edges\u001b[0m\u001b[1;33m[\u001b[0m\u001b[1;34m'cell_bc_10x'\u001b[0m\u001b[1;33m]\u001b[0m \u001b[1;33m=\u001b[0m \u001b[0mexchanged_edges\u001b[0m\u001b[1;33m[\u001b[0m\u001b[1;34m'updated_cell_bc_10x'\u001b[0m\u001b[1;33m]\u001b[0m\u001b[1;33m\u001b[0m\u001b[1;33m\u001b[0m\u001b[0m\n\u001b[0;32m     40\u001b[0m     \u001b[0mexchanged_edges\u001b[0m\u001b[1;33m.\u001b[0m\u001b[0mdrop\u001b[0m\u001b[1;33m(\u001b[0m\u001b[0mcolumns\u001b[0m\u001b[1;33m=\u001b[0m\u001b[1;33m[\u001b[0m\u001b[1;34m'updated_cell_bc_10x'\u001b[0m\u001b[1;33m]\u001b[0m\u001b[1;33m,\u001b[0m \u001b[0minplace\u001b[0m\u001b[1;33m=\u001b[0m\u001b[1;32mTrue\u001b[0m\u001b[1;33m)\u001b[0m\u001b[1;33m\u001b[0m\u001b[1;33m\u001b[0m\u001b[0m\n",
      "\u001b[1;32mc:\\Users\\simon.kolmodin\\Anaconda3\\envs\\Publication_test\\Lib\\site-packages\\pandas\\core\\frame.py\u001b[0m in \u001b[0;36m?\u001b[1;34m(self, key)\u001b[0m\n\u001b[1;32m-> 4062\u001b[1;33m     \u001b[1;32mdef\u001b[0m \u001b[0m__getitem__\u001b[0m\u001b[1;33m(\u001b[0m\u001b[0mself\u001b[0m\u001b[1;33m,\u001b[0m \u001b[0mkey\u001b[0m\u001b[1;33m)\u001b[0m\u001b[1;33m:\u001b[0m\u001b[1;33m\u001b[0m\u001b[1;33m\u001b[0m\u001b[0m\n\u001b[0m\u001b[0;32m   4063\u001b[0m         \u001b[0mcheck_dict_or_set_indexers\u001b[0m\u001b[1;33m(\u001b[0m\u001b[0mkey\u001b[0m\u001b[1;33m)\u001b[0m\u001b[1;33m\u001b[0m\u001b[1;33m\u001b[0m\u001b[0m\n\u001b[0;32m   4064\u001b[0m         \u001b[0mkey\u001b[0m \u001b[1;33m=\u001b[0m \u001b[0mlib\u001b[0m\u001b[1;33m.\u001b[0m\u001b[0mitem_from_zerodim\u001b[0m\u001b[1;33m(\u001b[0m\u001b[0mkey\u001b[0m\u001b[1;33m)\u001b[0m\u001b[1;33m\u001b[0m\u001b[1;33m\u001b[0m\u001b[0m\n\u001b[0;32m   4065\u001b[0m         \u001b[0mkey\u001b[0m \u001b[1;33m=\u001b[0m \u001b[0mcom\u001b[0m\u001b[1;33m.\u001b[0m\u001b[0mapply_if_callable\u001b[0m\u001b[1;33m(\u001b[0m\u001b[0mkey\u001b[0m\u001b[1;33m,\u001b[0m \u001b[0mself\u001b[0m\u001b[1;33m)\u001b[0m\u001b[1;33m\u001b[0m\u001b[1;33m\u001b[0m\u001b[0m\n",
      "\u001b[1;31mKeyboardInterrupt\u001b[0m: "
     ]
    }
   ],
   "source": [
    "from initial_processing_functions import perform_preprocessing\n",
    "perform_preprocessing(config)"
   ]
  },
  {
   "cell_type": "markdown",
   "id": "53b9ee6f",
   "metadata": {},
   "source": [
    "# 2. Filter edgelist\n",
    "The main purpose is to remove certain beads with undesirable properties. The main usage is to remove beads which only connects to a single cell and beads with a \"N\" base, but can also be used to:\n",
    "- Remove beads with more than a certain amount of total UMIs and/or neighbours. \n",
    "- Impose a lower limit for the number of UMIs per individual bead-cell edge. \n",
    "As standard, only the beads with only a single bead-cell connection and \"N\" in the sequence are removed, and the other options are not applied but can be changed in the config file. It uses the same config as the previous step."
   ]
  },
  {
   "cell_type": "code",
   "execution_count": 2,
   "id": "5d307b9a",
   "metadata": {},
   "outputs": [
    {
     "name": "stdout",
     "output_type": "stream",
     "text": [
      "                     cell_bc_10x  nUMI\n",
      "bead_bc                               \n",
      "AAACGCAGTTCGTG  AAACCCAGTGCAAGAC     1\n",
      "AAATTGCTTCGGTA  AAACCCAGTGCAAGAC     1\n",
      "AACAAGAACACTGC  AAACCCAGTGCAAGAC     1\n",
      "AACACAGCGGAGGT  AAACCCAGTGCAAGAC     1\n",
      "AACAGGCTGATGTC  AAACCCAGTGCAAGAC     1\n",
      "...                          ...   ...\n",
      "TTCTAGGAGCGCGT  TTTGTTGCAAGTATAG     1\n",
      "TTGTGATCGTCCTC  TTTGTTGCAAGTATAG     1\n",
      "TTGTTGCACGAGTC  TTTGTTGCAAGTATAG     1\n",
      "TTTCCGTGAAACCT  TTTGTTGCAAGTATAG     1\n",
      "TTTGGCCGCCAAAG  TTTGTTGCAAGTATAG     5\n",
      "\n",
      "[131774 rows x 2 columns]\n",
      "               bead_bc       cell_bc_10x  nUMI\n",
      "0       AAACGCAGTTCGTG  AAACCCAGTGCAAGAC     1\n",
      "1       AAATTGCTTCGGTA  AAACCCAGTGCAAGAC     1\n",
      "2       AACAAGAACACTGC  AAACCCAGTGCAAGAC     1\n",
      "3       AACACAGCGGAGGT  AAACCCAGTGCAAGAC     1\n",
      "4       AACAGGCTGATGTC  AAACCCAGTGCAAGAC     1\n",
      "...                ...               ...   ...\n",
      "131769  TTCTAGGAGCGCGT  TTTGTTGCAAGTATAG     1\n",
      "131770  TTGTGATCGTCCTC  TTTGTTGCAAGTATAG     1\n",
      "131771  TTGTTGCACGAGTC  TTTGTTGCAAGTATAG     1\n",
      "131772  TTTCCGTGAAACCT  TTTGTTGCAAGTATAG     1\n",
      "131773  TTTGGCCGCCAAAG  TTTGTTGCAAGTATAG     5\n",
      "\n",
      "[125026 rows x 3 columns]\n",
      "               bead_bc       cell_bc_10x  nUMI\n",
      "0       AAACGCAGTTCGTG  AAACCCAGTGCAAGAC     1\n",
      "1       AAATTGCTTCGGTA  AAACCCAGTGCAAGAC     1\n",
      "2       AACAAGAACACTGC  AAACCCAGTGCAAGAC     1\n",
      "3       AACACAGCGGAGGT  AAACCCAGTGCAAGAC     1\n",
      "4       AACAGGCTGATGTC  AAACCCAGTGCAAGAC     1\n",
      "...                ...               ...   ...\n",
      "125021  TTCTAGGAGCGCGT  TTTGTTGCAAGTATAG     1\n",
      "125022  TTGTGATCGTCCTC  TTTGTTGCAAGTATAG     1\n",
      "125023  TTGTTGCACGAGTC  TTTGTTGCAAGTATAG     1\n",
      "125024  TTTCCGTGAAACCT  TTTGTTGCAAGTATAG     1\n",
      "125025  TTTGGCCGCCAAAG  TTTGTTGCAAGTATAG     5\n",
      "\n",
      "[125026 rows x 3 columns]\n"
     ]
    }
   ],
   "source": [
    "from filtering_functions import perform_filtering\n",
    "\n",
    "perform_filtering(config)"
   ]
  },
  {
   "cell_type": "markdown",
   "id": "e101ea69",
   "metadata": {},
   "source": [
    "# 3. Generate subgraphs\n",
    "Subgraphs are important since that is what is actually reconstructed. They are the immediate precursor to reconstruction, and there are several options for which subgraphs we generate and subsequently reconstruct.\n",
    "- Network type - Filtering generates both the bipartite bead-cell network, but also unimodal projections with two separate weight metrics: UMI-sum and N beads per cell-cell connection\n",
    "- Minumum subgraph size - using subgraphs below a certain size is not only uninformative but will also likely reconstruct poorly, it should always be at least 15, recommended is at least 100 \n",
    "- Various filters - The numbers are lower filter boundaries, meaning it will only include edges with weight higher or equal to the specific number. They are in list form, and if a type of filter is empty that type of subgraphs will not be generated\n"
   ]
  },
  {
   "cell_type": "code",
   "execution_count": 3,
   "id": "a76a7f6b",
   "metadata": {},
   "outputs": [
    {
     "name": "stdout",
     "output_type": "stream",
     "text": [
      "No Unipartite bead-weight matrix found\n",
      "No Unipartite UMI-weight matrix found\n"
     ]
    }
   ],
   "source": [
    "from subgraph_processing_functions import perform_subgraph_generation_by_filtering\n",
    "perform_subgraph_generation_by_filtering(config)"
   ]
  },
  {
   "cell_type": "markdown",
   "id": "23a93c49",
   "metadata": {},
   "source": [
    "# 4. Reconstruct\n",
    "When reconstructing, it will use the subgraphs generated by the previous step and in the \"Subgraph_reconstruction\" deposit the reconstructed positions. This is the final \"linear\" processing step.It is possible to reconstruct several times, and its possible to chose which filtering thresholds and specific subgraphs are reconstructed. Standard is all for both. It is also possible to choose reconstruction dimension, with the standard being 2.\n"
   ]
  },
  {
   "cell_type": "code",
   "execution_count": 2,
   "id": "e17f4d5f",
   "metadata": {},
   "outputs": [
    {
     "name": "stdout",
     "output_type": "stream",
     "text": [
      "['uni-beads_1', 'uni-beads_10', 'uni-beads_2', 'uni-beads_3', 'uni-beads_4', 'uni-beads_5', 'uni-beads_6', 'uni-beads_7', 'uni-beads_8', 'uni-beads_9', 'uni-umis_1', 'uni-umis_2', 'uni-umis_3', 'uni-umis_4', 'uni-umis_5', 'uni-umis_6', 'uni-umis_7']\n",
      "[]\n",
      "[]\n",
      "[]\n"
     ]
    }
   ],
   "source": [
    "from reconstruction_functions import interpret_config_and_reconstruct\n",
    "interpret_config_and_reconstruct(config)"
   ]
  },
  {
   "cell_type": "markdown",
   "id": "31b782d8",
   "metadata": {},
   "source": [
    "# 5. Visualising reconstruction\n",
    "Reconstructing is the final standard step. Further possible actions are for example:\n",
    "NOTE: This uses a separate config file\n",
    "- Enriching subgraphs to add edges from lower filters\n",
    "- Gating subgraphs based on reconstructed distance\n",
    "- Analyzing reconstructions\n",
    "- Assessing general network qualities \n",
    "\n",
    "These options have separate config files, and some are based on files from different parts of this notebook. This means thats its not necessarily required to go through this entire notebook to run them, but its still recommended since many steps are based on the \"basic\" reconstructions or compare to it within the modules. As base, two reconstruction quality metrics are shown, K-Nearest Neighbours (KNN) and Correlated Pairwise Distances (CPD) are shown by default for local and global quality respectively. \n",
    "\n",
    "Visualization options that require no further major modifications include: distortion, morphed reconstruction, and morphed distortion, alla available through simply changing the relevant visualization option in the config.\n",
    "\n",
    "To further analyze the reconstruction metrics more deeply, please go to the \"additional_subgraph_analysis\" notebook, or to modify the subgraphs using enrichment, distance gating, or dbscan clustering please use the \"subgraph_modification\" notebook\n"
   ]
  },
  {
   "cell_type": "code",
   "execution_count": null,
   "id": "7e75ab57",
   "metadata": {},
   "outputs": [
    {
     "name": "stdout",
     "output_type": "stream",
     "text": [
      "Initializing files\n",
      "\n",
      "Current Threshold:  1\n",
      "Initializing files\n",
      "Reading edgelist\n",
      "Generating Subgraph object\n",
      "Creating ground truth positions dataframe\n",
      "check: Output_files\\tonsil\\run=all_cells_filters=numi2-10000_nconn2-10000_w1\\bi-umis_1_2D/full_reconstruction_summary_subgraph_1_N=93868.csv\n",
      "Initializing reconstructions\n"
     ]
    },
    {
     "ename": "FileNotFoundError",
     "evalue": "[WinError 3] The system cannot find the path specified: 'Subgraph_reconstructions\\\\tonsil\\\\run=all_cells_filters=numi2-10000_nconn2-10000_w1\\\\bi-umis_1_2D'",
     "output_type": "error",
     "traceback": [
      "\u001b[1;31m---------------------------------------------------------------------------\u001b[0m",
      "\u001b[1;31mFileNotFoundError\u001b[0m                         Traceback (most recent call last)",
      "Cell \u001b[1;32mIn[5], line 7\u001b[0m\n\u001b[0;32m      4\u001b[0m \u001b[38;5;66;03m# Comment the line below if its desired to run the analysis on another sample\u001b[39;00m\n\u001b[0;32m      5\u001b[0m config_analysis\u001b[38;5;241m.\u001b[39mbase_network_args\u001b[38;5;241m.\u001b[39munfiltered_edge_file \u001b[38;5;241m=\u001b[39m config\u001b[38;5;241m.\u001b[39mpreprocessing_args\u001b[38;5;241m.\u001b[39mfilepaths\u001b[38;5;241m.\u001b[39moutput_file \n\u001b[1;32m----> 7\u001b[0m perform_analysis_actions(config_analysis)\n",
      "File \u001b[1;32mc:\\Users\\simon.kolmodin\\Desktop\\Slide_Tag\\Publication_code\\subgraph_analysis_functions.py:1710\u001b[0m, in \u001b[0;36mperform_analysis_actions\u001b[1;34m(config)\u001b[0m\n\u001b[0;32m   1707\u001b[0m     \u001b[38;5;28mprint\u001b[39m(\u001b[38;5;124m\"\u001b[39m\u001b[38;5;130;01m\\n\u001b[39;00m\u001b[38;5;124mCurrent Threshold: \u001b[39m\u001b[38;5;124m\"\u001b[39m,threshold)\n\u001b[0;32m   1708\u001b[0m     config \u001b[38;5;241m=\u001b[39m initialize_post_subgraph_analysis(config)\n\u001b[1;32m-> 1710\u001b[0m     analyze_subgraph_enrichment(config)\n\u001b[0;32m   1712\u001b[0m plt\u001b[38;5;241m.\u001b[39mshow()\n",
      "File \u001b[1;32mc:\\Users\\simon.kolmodin\\Desktop\\Slide_Tag\\Publication_code\\subgraph_analysis_functions.py:1687\u001b[0m, in \u001b[0;36manalyze_subgraph_enrichment\u001b[1;34m(config)\u001b[0m\n\u001b[0;32m   1685\u001b[0m subgraph\u001b[38;5;241m.\u001b[39medgelist_location \u001b[38;5;241m=\u001b[39m config\u001b[38;5;241m.\u001b[39msubgraph_location\n\u001b[0;32m   1686\u001b[0m subgraph\u001b[38;5;241m.\u001b[39mall_ground_truth_points \u001b[38;5;241m=\u001b[39m config\u001b[38;5;241m.\u001b[39mgt_points\n\u001b[1;32m-> 1687\u001b[0m subgraph\u001b[38;5;241m.\u001b[39mcreate_and_save_full_reconstruction_summary()\n\u001b[0;32m   1688\u001b[0m \u001b[38;5;66;03m# subgraph.additional_initialization_and_saving_reconstruction_metrics()\u001b[39;00m\n\u001b[0;32m   1689\u001b[0m subgraph\u001b[38;5;241m.\u001b[39mgenerate_detailed_edgefile(subgraph\u001b[38;5;241m.\u001b[39mconfig\u001b[38;5;241m.\u001b[39msubgraph_to_analyse\u001b[38;5;241m.\u001b[39mregenerate_detailed_edges)\n",
      "File \u001b[1;32mc:\\Users\\simon.kolmodin\\Desktop\\Slide_Tag\\Publication_code\\subgraph_analysis_functions.py:1126\u001b[0m, in \u001b[0;36msubgraphToAnalyse.create_and_save_full_reconstruction_summary\u001b[1;34m(self, save_type, enriched)\u001b[0m\n\u001b[0;32m   1124\u001b[0m \u001b[38;5;28;01mif\u001b[39;00m \u001b[38;5;28mself\u001b[39m\u001b[38;5;241m.\u001b[39mall_reconstructions \u001b[38;5;241m==\u001b[39m\u001b[38;5;28;01mNone\u001b[39;00m:\n\u001b[0;32m   1125\u001b[0m     \u001b[38;5;28mprint\u001b[39m(\u001b[38;5;124m\"\u001b[39m\u001b[38;5;124mInitializing reconstructions\u001b[39m\u001b[38;5;124m\"\u001b[39m)\n\u001b[1;32m-> 1126\u001b[0m     \u001b[38;5;28mself\u001b[39m\u001b[38;5;241m.\u001b[39mfind_reconstructions()\n\u001b[0;32m   1128\u001b[0m reconstruction_summary \u001b[38;5;241m=\u001b[39m \u001b[38;5;28mself\u001b[39m\u001b[38;5;241m.\u001b[39mall_reconstructions[\u001b[38;5;241m0\u001b[39m]\u001b[38;5;241m.\u001b[39mcopy()\n\u001b[0;32m   1129\u001b[0m \u001b[38;5;28mprint\u001b[39m(\u001b[38;5;124mf\u001b[39m\u001b[38;5;124m\"\u001b[39m\u001b[38;5;124mself.is_modified_subgraph \u001b[39m\u001b[38;5;132;01m{\u001b[39;00m\u001b[38;5;28mself\u001b[39m\u001b[38;5;241m.\u001b[39mis_modified_subgraph\u001b[38;5;132;01m}\u001b[39;00m\u001b[38;5;124m\"\u001b[39m)\n",
      "File \u001b[1;32mc:\\Users\\simon.kolmodin\\Desktop\\Slide_Tag\\Publication_code\\subgraph_analysis_functions.py:140\u001b[0m, in \u001b[0;36msubgraphToAnalyse.find_reconstructions\u001b[1;34m(self)\u001b[0m\n\u001b[0;32m    137\u001b[0m \u001b[38;5;66;03m# print(\"Finding reconstructions\")\u001b[39;00m\n\u001b[0;32m    138\u001b[0m \u001b[38;5;28mself\u001b[39m\u001b[38;5;241m.\u001b[39mreconstruction_location \u001b[38;5;241m=\u001b[39m replace_first_folder(\u001b[38;5;28mself\u001b[39m\u001b[38;5;241m.\u001b[39medgelist_location, \u001b[38;5;124m\"\u001b[39m\u001b[38;5;124mSubgraph_reconstructions\u001b[39m\u001b[38;5;124m\"\u001b[39m)\u001b[38;5;241m+\u001b[39m\u001b[38;5;124mf\u001b[39m\u001b[38;5;124m\"\u001b[39m\u001b[38;5;124m_\u001b[39m\u001b[38;5;132;01m{\u001b[39;00m\u001b[38;5;28mself\u001b[39m\u001b[38;5;241m.\u001b[39mreconstruction_dimension\u001b[38;5;132;01m}\u001b[39;00m\u001b[38;5;124mD\u001b[39m\u001b[38;5;124m\"\u001b[39m\n\u001b[1;32m--> 140\u001b[0m \u001b[38;5;28mself\u001b[39m\u001b[38;5;241m.\u001b[39mall_reconstructions \u001b[38;5;241m=\u001b[39m [pd\u001b[38;5;241m.\u001b[39mread_csv(\u001b[38;5;124mf\u001b[39m\u001b[38;5;124m\"\u001b[39m\u001b[38;5;132;01m{\u001b[39;00m\u001b[38;5;28mself\u001b[39m\u001b[38;5;241m.\u001b[39mreconstruction_location\u001b[38;5;132;01m}\u001b[39;00m\u001b[38;5;124m/\u001b[39m\u001b[38;5;132;01m{\u001b[39;00mrecon\u001b[38;5;132;01m}\u001b[39;00m\u001b[38;5;124m\"\u001b[39m)\u001b[38;5;241m.\u001b[39mset_index(\u001b[38;5;124m\"\u001b[39m\u001b[38;5;124mnode_ID\u001b[39m\u001b[38;5;124m\"\u001b[39m) \u001b[38;5;28;01mfor\u001b[39;00m recon \u001b[38;5;129;01min\u001b[39;00m os\u001b[38;5;241m.\u001b[39mlistdir(\u001b[38;5;28mself\u001b[39m\u001b[38;5;241m.\u001b[39mreconstruction_location) \u001b[38;5;28;01mif\u001b[39;00m \u001b[38;5;124m\"\u001b[39m\u001b[38;5;124m.csv\u001b[39m\u001b[38;5;124m\"\u001b[39m \u001b[38;5;129;01min\u001b[39;00m recon \u001b[38;5;129;01mand\u001b[39;00m \u001b[38;5;124mf\u001b[39m\u001b[38;5;124m\"\u001b[39m\u001b[38;5;124msubgraph_\u001b[39m\u001b[38;5;132;01m{\u001b[39;00m\u001b[38;5;28mself\u001b[39m\u001b[38;5;241m.\u001b[39mnumber\u001b[38;5;132;01m}\u001b[39;00m\u001b[38;5;124m_\u001b[39m\u001b[38;5;124m\"\u001b[39m \u001b[38;5;129;01min\u001b[39;00m recon]\n\u001b[0;32m    141\u001b[0m \u001b[38;5;28;01mif\u001b[39;00m \u001b[38;5;28mself\u001b[39m\u001b[38;5;241m.\u001b[39mall_reconstructions \u001b[38;5;241m==\u001b[39m []:\n\u001b[0;32m    142\u001b[0m     \u001b[38;5;28mself\u001b[39m\u001b[38;5;241m.\u001b[39mpoint_ids \u001b[38;5;241m=\u001b[39m []\n",
      "\u001b[1;31mFileNotFoundError\u001b[0m: [WinError 3] The system cannot find the path specified: 'Subgraph_reconstructions\\\\tonsil\\\\run=all_cells_filters=numi2-10000_nconn2-10000_w1\\\\bi-umis_1_2D'"
     ]
    }
   ],
   "source": [
    "from Utils import *\n",
    "from subgraph_analysis_functions import perform_analysis_actions\n",
    "config_analysis = ConfigLoader('config_analysis.py') \n",
    "# Comment the line below if its desired to run the analysis on another sample\n",
    "config_analysis.base_network_args.unfiltered_edge_file = config.preprocessing_args.filepaths.output_file \n",
    "\n",
    "perform_analysis_actions(config_analysis)"
   ]
  },
  {
   "cell_type": "markdown",
   "id": "93704bc6",
   "metadata": {},
   "source": [
    "This plot layout is such that to the left is the points in the subgraph with a ground truth overlayed on all ground truth points in light gray. To the right of this are the reconstructions, with the first row always being the ground truth positions for the that speicfic subgraph verions. The title of the column is the base filuter used, the mean KNN and CPD for all reconstrcutions fi there are multiple, how many total nodes in the subgraph including beads, and finally how many of those nodes are cells, and of those how many have a ground truth. The first column to the right of this will always be the base subgraph, without modifications. If there are multiple reconstructions shown (default is 1 reconstruction only) they wil be visible as rows under the ground truth, and if there are modified version of the subgraph, those will be new columns. the best reconstruction from a global perspective will have a blue outline, as well of the modification with the overall best global reconstruction quality"
   ]
  }
 ],
 "metadata": {
  "kernelspec": {
   "display_name": "Publication_test",
   "language": "python",
   "name": "python3"
  },
  "language_info": {
   "codemirror_mode": {
    "name": "ipython",
    "version": 3
   },
   "file_extension": ".py",
   "mimetype": "text/x-python",
   "name": "python",
   "nbconvert_exporter": "python",
   "pygments_lexer": "ipython3",
   "version": "3.11.10"
  }
 },
 "nbformat": 4,
 "nbformat_minor": 5
}
