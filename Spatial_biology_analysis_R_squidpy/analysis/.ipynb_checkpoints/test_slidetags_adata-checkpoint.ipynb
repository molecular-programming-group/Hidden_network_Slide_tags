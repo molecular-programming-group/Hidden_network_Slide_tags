{
 "cells": [
  {
   "cell_type": "markdown",
   "id": "b8b07a5d-023b-456a-b475-dbb5a330ca0b",
   "metadata": {},
   "source": [
    "In this notebook I will try to prepare the tonsil slide-tags data in the anndata format, to be read later with squidpy."
   ]
  },
  {
   "cell_type": "code",
   "execution_count": 13,
   "id": "9981b627-0104-4ef7-a705-d2bd26de1aef",
   "metadata": {},
   "outputs": [],
   "source": [
    "from numpy.random import default_rng\n",
    "\n",
    "import matplotlib.pyplot as plt\n",
    "\n",
    "import scanpy as sc\n",
    "import squidpy as sq\n",
    "import anndata as ad\n",
    "from anndata import AnnData"
   ]
  },
  {
   "cell_type": "code",
   "execution_count": 2,
   "id": "97b5b14d-0ba6-45da-89c1-ebb464d657fe",
   "metadata": {},
   "outputs": [
    {
     "name": "stdout",
     "output_type": "stream",
     "text": [
      "scanpy==1.10.3 anndata==0.10.9 umap==0.5.7 numpy==1.26.4 scipy==1.13.1 pandas==2.2.3 scikit-learn==1.6.1 statsmodels==0.14.4 igraph==0.11.8 pynndescent==0.5.13\n",
      "squidpy==1.6.1\n"
     ]
    }
   ],
   "source": [
    "sc.logging.print_header()\n",
    "print(f\"squidpy=={sq.__version__}\")"
   ]
  },
  {
   "cell_type": "markdown",
   "id": "64bfe31d-5840-47ec-8c24-5477c37d0ae7",
   "metadata": {},
   "source": [
    "<br>\n",
    "\n",
    "To create the object, will need:\n",
    "\n",
    "- an array of features (e.g. counts).\n",
    "\n",
    "- an array of spatial coordinates.\n",
    "\n",
    "- an image array (e.g. the tissue image). (optional??)"
   ]
  },
  {
   "cell_type": "markdown",
   "id": "208dd4dd-1335-4fc4-8e62-c6b54b8f764a",
   "metadata": {},
   "source": [
    "**Dummy data**"
   ]
  },
  {
   "cell_type": "code",
   "execution_count": 4,
   "id": "f2427954-7331-414e-84db-9e0870e037dd",
   "metadata": {},
   "outputs": [],
   "source": [
    "rng = default_rng(42)\n",
    "counts = rng.integers(0, 15, size=(10, 100))  # feature matrix\n",
    "coordinates = rng.uniform(0, 10, size=(10, 2))  # spatial coordinates\n",
    "image = rng.uniform(0, 1, size=(10, 10, 3))  # image"
   ]
  },
  {
   "cell_type": "code",
   "execution_count": 6,
   "id": "fd35a532-df33-4ac8-a815-4e5eb35e96b7",
   "metadata": {},
   "outputs": [
    {
     "data": {
      "text/plain": [
       "array([[ 1, 11,  9,  6,  6, 12,  1, 10,  3,  1,  7, 14, 11, 11, 10, 11,\n",
       "         7,  1, 12,  6,  7,  5,  2, 13, 11,  9,  6, 12,  8,  6,  6,  3,\n",
       "         1,  8, 13,  0, 12, 12,  4,  9,  2, 11, 10,  5,  1, 14,  6, 13,\n",
       "        10, 11, 11,  2,  5,  7,  7,  0,  8,  2, 11, 10, 13, 11,  5, 14,\n",
       "         6,  4, 13,  5,  1,  7, 11,  2,  6,  1, 10,  7,  4,  3,  8, 10,\n",
       "        14,  6,  2, 12,  9, 10,  1,  4, 11, 12,  6, 12, 12,  5, 13,  4,\n",
       "         3, 10,  9,  2],\n",
       "       [12,  2, 12,  0, 11, 11, 11,  9,  7, 10,  4, 11,  8,  6,  7,  8,\n",
       "         0,  2,  3,  1,  6, 10,  9,  7, 12,  8,  1, 11,  8,  9,  8,  8,\n",
       "         1,  8, 11,  4,  9,  0,  5,  6, 14,  3,  4,  6, 14, 12,  0,  3,\n",
       "        12,  0, 12,  4, 13,  4,  6,  9,  1,  8,  7, 11, 14,  9,  6,  6,\n",
       "         6, 12,  4,  2,  5,  0,  1,  1, 11, 10, 10,  6, 10,  2, 13,  7,\n",
       "        14,  2,  7, 10,  7,  6,  2,  5,  3,  4, 10,  9,  9,  5, 14,  1,\n",
       "         5,  1,  5, 14],\n",
       "       [ 5, 13,  7, 10,  6,  3, 11, 14,  3, 11,  3, 10, 11,  6, 11,  4,\n",
       "         1,  1,  6, 13,  1,  6, 10,  3, 10,  4, 12,  8,  8,  2,  6, 12,\n",
       "         0, 11,  7, 10,  9,  6,  4,  9,  2,  8,  1,  9,  9,  1, 11,  6,\n",
       "        11,  0,  2,  7,  2,  4,  9,  2, 10,  1,  2,  8, 11,  2,  4, 13,\n",
       "        14,  8,  6,  5,  9,  8,  4,  0,  2, 14,  6,  7,  7, 11,  0,  1,\n",
       "         4,  7, 10,  7,  6, 14,  2,  8,  8,  7, 12,  4, 14,  4,  8,  7,\n",
       "        12,  6,  4,  0],\n",
       "       [ 5, 12,  0, 13,  8,  2,  4,  8,  4,  1,  9, 10,  1,  4,  3,  9,\n",
       "        10, 10, 14, 11,  4,  1,  9, 13, 14,  3,  3,  0,  2,  8,  8,  5,\n",
       "         4, 12,  6, 12, 14,  4,  3, 14,  9,  4,  9,  7, 13,  3, 14, 14,\n",
       "         2,  2,  7,  0,  4,  6, 14, 14,  2, 13,  1, 11, 12, 13,  3, 13,\n",
       "         1,  7,  7,  4,  0, 11,  5,  9,  6,  5, 13,  1, 11, 11,  5,  3,\n",
       "         0, 14, 14,  3,  0,  1,  1, 12, 13,  2, 11,  2,  5,  8, 10, 13,\n",
       "         0,  2,  4,  4],\n",
       "       [14, 11,  4, 14,  7,  7,  6,  2, 14,  0,  2,  3,  4,  1,  0, 10,\n",
       "        14,  1,  4,  7, 13, 10, 11,  8,  6,  2, 12, 12,  0, 10,  1, 11,\n",
       "        12,  1,  6,  1,  8, 13,  1,  5, 14,  4,  1,  7,  7,  9,  4, 14,\n",
       "         7,  4, 14, 13,  7,  0,  8,  8,  2,  9, 12,  1, 10,  2, 11,  6,\n",
       "         0, 14,  2,  8,  2, 13, 11, 12,  6,  7,  9, 11, 12,  0,  9,  1,\n",
       "         4, 12,  3, 11,  6,  3,  5,  7, 11,  9, 13, 13, 11,  9,  4,  6,\n",
       "         1,  5, 13,  6],\n",
       "       [ 1,  9, 14, 13,  4,  6,  7,  3,  4,  3, 14, 11, 12, 12, 14,  1,\n",
       "        13,  0,  7,  8,  5,  2,  2, 12,  4,  4, 13,  2, 13, 13,  8,  2,\n",
       "         2,  4,  8,  2,  6,  1,  8,  0, 10,  0,  2,  2, 12,  0,  6,  8,\n",
       "         7, 10, 12,  5, 12,  4, 14,  7, 11, 13, 11, 12,  8,  0,  7,  2,\n",
       "        13,  3,  3,  3,  9,  8, 14,  6,  4,  0,  0,  5, 13,  7, 13,  1,\n",
       "         1, 12,  1,  0,  6, 13, 10,  1, 12, 12, 12, 13,  3, 14,  4, 12,\n",
       "         8, 11,  9,  9],\n",
       "       [ 9, 11, 11,  2, 12,  8,  4,  7, 14, 12, 12,  6, 11,  5, 10,  9,\n",
       "         3,  3,  0,  2,  6,  7,  2,  6,  9,  3,  5,  5,  7,  5, 11,  4,\n",
       "         6,  5,  2, 10,  3,  4, 11, 14, 10, 13, 12,  7, 11,  4,  6,  8,\n",
       "        14, 12,  7,  9,  3, 12,  8,  7, 11,  9,  1,  4,  2, 11,  0,  3,\n",
       "         8, 10,  7, 12, 13,  1, 14,  9,  9,  1,  9, 10,  8,  1,  7, 14,\n",
       "        10,  2, 14, 14,  2, 12,  6,  8,  6, 11, 14, 11, 13, 14,  1,  3,\n",
       "        10,  8,  0,  1],\n",
       "       [ 7,  9,  2,  2,  1,  8,  0,  8,  7,  6, 10,  7, 10, 11, 13, 11,\n",
       "         7,  7,  3,  8,  2, 13, 12,  1, 11,  1, 10,  1,  7,  9, 10,  6,\n",
       "        13, 11,  3, 10, 10,  5, 11, 13, 12, 11,  9,  4, 11,  5,  7,  4,\n",
       "         4,  2, 14,  2,  1, 14,  8,  6, 11,  5,  1, 10,  2,  8, 14, 14,\n",
       "         5, 11,  9,  7,  2,  5,  9, 14,  0, 10, 12, 14,  6,  1,  4, 12,\n",
       "        13,  9,  1,  1,  7,  8,  0, 10,  8,  0,  1,  6, 10, 12,  6,  4,\n",
       "        14,  6,  4,  6],\n",
       "       [ 0,  4,  7, 13, 11, 11,  8,  1,  5, 14,  0, 13, 10,  4, 11, 12,\n",
       "         0,  1,  9, 14,  0,  9,  2,  9,  9,  1, 10, 13, 12,  0,  3,  3,\n",
       "         6,  2, 12, 11, 12,  2,  0, 13,  4,  9, 13,  0,  0,  0,  2,  0,\n",
       "        12,  9, 14, 12, 14,  3,  4, 12,  3,  0, 10, 12, 14, 13,  1, 11,\n",
       "        12, 10, 12, 12,  6,  0,  6,  3,  1,  1, 10,  7,  8, 11,  8,  9,\n",
       "         1, 12,  6,  2, 12, 11,  0,  2,  0,  4,  1, 10,  7, 14, 11,  9,\n",
       "         7,  0,  1,  9],\n",
       "       [ 0,  0,  3, 13,  6, 10,  6,  2,  5,  1, 11,  2,  5, 14,  8,  6,\n",
       "         8, 11,  3,  9, 13,  8,  6,  2,  3, 14,  8,  4,  6,  8,  8, 10,\n",
       "         3,  9,  6, 14,  2,  2,  6,  7, 10,  6, 13,  7,  1,  1, 14,  2,\n",
       "        14,  4,  1,  4,  9,  6, 11,  9,  6,  9, 14,  6,  2,  6, 12,  3,\n",
       "        14,  8,  9,  4, 13,  0,  4,  6,  7,  7,  2,  3,  1,  8,  5,  8,\n",
       "         8, 10,  8,  9,  8,  9,  9,  4,  3, 11,  5,  8,  2,  6,  7,  9,\n",
       "         7,  5, 14,  7]])"
      ]
     },
     "execution_count": 6,
     "metadata": {},
     "output_type": "execute_result"
    }
   ],
   "source": [
    "counts"
   ]
  },
  {
   "cell_type": "code",
   "execution_count": 7,
   "id": "7d3c296a-8f91-4e19-befe-554feeaffe8d",
   "metadata": {},
   "outputs": [
    {
     "data": {
      "text/plain": [
       "array([[7.36705688, 8.86402887],\n",
       "       [9.21057197, 5.03632925],\n",
       "       [5.20275115, 7.99870411],\n",
       "       [3.14450692, 8.37382362],\n",
       "       [4.94141647, 1.15856724],\n",
       "       [0.72059147, 8.41993211],\n",
       "       [0.55567917, 2.80611436],\n",
       "       [3.34130041, 1.72994445],\n",
       "       [3.1389337 , 7.42692567],\n",
       "       [0.14682844, 8.27173425]])"
      ]
     },
     "execution_count": 7,
     "metadata": {},
     "output_type": "execute_result"
    }
   ],
   "source": [
    "coordinates"
   ]
  },
  {
   "cell_type": "markdown",
   "id": "a25a3fca-d3f2-4adb-b2b6-6e35dc24ca03",
   "metadata": {},
   "source": [
    "Test with tonsil data"
   ]
  },
  {
   "cell_type": "code",
   "execution_count": 17,
   "id": "85d7254d-e28c-444e-86ab-debc0caaea35",
   "metadata": {},
   "outputs": [
    {
     "name": "stderr",
     "output_type": "stream",
     "text": [
      "/opt/homebrew/anaconda3/envs/squidpy/lib/python3.9/site-packages/anndata/compat/__init__.py:329: FutureWarning: Moving element from .uns['neighbors']['distances'] to .obsp['distances'].\n",
      "\n",
      "This is where adjacency matrices should go now.\n",
      "  warn(\n"
     ]
    }
   ],
   "source": [
    "ad_tonsil = sc.read_h5ad(\"/Users/lovisafranzen/Documents/PhD_Projects/slide-tags_hidden-network/slidetags-network/results/tonsil_data/se_data_new_cells_filt.h5ad\")"
   ]
  },
  {
   "cell_type": "code",
   "execution_count": 18,
   "id": "e26d5b66-1e10-4261-90ce-0fd0c5c13358",
   "metadata": {},
   "outputs": [
    {
     "data": {
      "text/plain": [
       "AnnData object with n_obs × n_vars = 3220 × 2000\n",
       "    obs: 'orig.ident', 'nCount_RNA', 'nFeature_RNA', 'barcode', 'UMAP_1', 'UMAP_2', 'cell_type', 'spatial_x', 'spatial_y', 'node_type', 'percent.mt', 'RNA_snn_res.0.75', 'seurat_clusters', 'predicted.id', 'prediction.score.T_CD4', 'prediction.score.plasma', 'prediction.score.B_germinal_center', 'prediction.score.B_naive', 'prediction.score.B_memory', 'prediction.score.mDC', 'prediction.score.T_follicular_helper', 'prediction.score.NK', 'prediction.score.FDC', 'prediction.score.T_CD8', 'prediction.score.pDC', 'prediction.score.myeloid', 'prediction.score.T_double_neg', 'prediction.score.max'\n",
       "    var: 'vst.mean', 'vst.variance', 'vst.variance.expected', 'vst.variance.standardized', 'vst.variable'\n",
       "    uns: 'neighbors'\n",
       "    obsm: 'X_pca', 'X_umap'\n",
       "    varm: 'PCs'\n",
       "    obsp: 'distances'"
      ]
     },
     "execution_count": 18,
     "metadata": {},
     "output_type": "execute_result"
    }
   ],
   "source": [
    "ad_tonsil"
   ]
  },
  {
   "cell_type": "markdown",
   "id": "a6f500c0-2a93-4c85-8dad-582a937cbb30",
   "metadata": {},
   "source": [
    "Locate count data and spatial data to feed into creation of the anndata object."
   ]
  },
  {
   "cell_type": "code",
   "execution_count": 26,
   "id": "6161ea58-252a-4ff6-82c9-a500f2968402",
   "metadata": {},
   "outputs": [
    {
     "data": {
      "text/plain": [
       "array([[1756.30168775, 2574.85533323],\n",
       "       [1487.94091959, 1581.13770295],\n",
       "       [1149.92605043, 1609.69510195],\n",
       "       ...,\n",
       "       [2365.76946454, 3135.43425112],\n",
       "       [2326.7256664 , 2407.09289934],\n",
       "       [2007.97908018, 2067.73909018]])"
      ]
     },
     "execution_count": 26,
     "metadata": {},
     "output_type": "execute_result"
    }
   ],
   "source": [
    "ad_tonsil.obs[['spatial_x', 'spatial_y']].to_numpy()"
   ]
  },
  {
   "cell_type": "code",
   "execution_count": 27,
   "id": "c5126abf-ed77-4fed-ba04-e1aac020c5ba",
   "metadata": {},
   "outputs": [
    {
     "data": {
      "text/plain": [
       "<anndata._core.raw.Raw at 0x32dd80700>"
      ]
     },
     "execution_count": 27,
     "metadata": {},
     "output_type": "execute_result"
    }
   ],
   "source": [
    "ad_tonsil."
   ]
  },
  {
   "cell_type": "code",
   "execution_count": null,
   "id": "0e0825c8-0456-4242-9442-c3ad176cd6a7",
   "metadata": {},
   "outputs": [],
   "source": [
    "ad_tonsil_spat = AnnData(ad_tonsil, obsm={\"spatial\":ad_tonsil.obs[['spatial_x', 'spatial_y']].to_numpy()"
   ]
  }
 ],
 "metadata": {
  "kernelspec": {
   "display_name": "Python 3 (ipykernel)",
   "language": "python",
   "name": "python3"
  },
  "language_info": {
   "codemirror_mode": {
    "name": "ipython",
    "version": 3
   },
   "file_extension": ".py",
   "mimetype": "text/x-python",
   "name": "python",
   "nbconvert_exporter": "python",
   "pygments_lexer": "ipython3",
   "version": "3.9.21"
  }
 },
 "nbformat": 4,
 "nbformat_minor": 5
}
